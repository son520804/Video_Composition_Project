{
 "cells": [
  {
   "cell_type": "markdown",
   "metadata": {},
   "source": [
    "# Code Transfer Test\n",
    "\n",
    "The code transfer test is designed to test your coding skills that is learnt during the lecture training. The allotted time for the subsequent problem set is approximately 30 minutes. You are allowed to refer to Jupyter notebook throughout the test. Good luck!\n",
    "\n",
    "Jupyter notebook resource: \n",
    "\n",
    "Timer extension! Heeryung"
   ]
  },
  {
   "cell_type": "code",
   "execution_count": 1,
   "metadata": {
    "ExecuteTime": {
     "end_time": "2020-07-29T22:32:59.841101Z",
     "start_time": "2020-07-29T22:32:57.514777Z"
    },
    "collapsed": true
   },
   "outputs": [],
   "source": [
    "# First, let's import the pandas and numpy libraries\n",
    "import pandas as pd\n",
    "import numpy as np\n",
    "\n",
    "# In addition, I want to show some plots, so we'll import matplotlib as well\n",
    "import matplotlib.pyplot as plt\n",
    "\n",
    "# Finally, we'll bring in the scipy stats libraries\n",
    "from scipy import stats"
   ]
  },
  {
   "cell_type": "code",
   "execution_count": 2,
   "metadata": {
    "ExecuteTime": {
     "end_time": "2020-07-29T22:33:01.673542Z",
     "start_time": "2020-07-29T22:33:01.665389Z"
    },
    "collapsed": true
   },
   "outputs": [],
   "source": [
    "# Hide\n",
    "import pandas.util.testing as pdt\n",
    "# %install_ext https://raw.githubusercontent.com/minrk/ipython_extensions/master/extensions/writeandexecute.py\n",
    "# pdt.assert_series_equal(s1, s2)\n",
    "# pdt.assert_frame_equal(f1, f2)\n",
    "# pdt.assert_index_equal(i1, i2)"
   ]
  },
  {
   "cell_type": "markdown",
   "metadata": {},
   "source": [
    "# Transfer Test Question\n",
    "What's the probability that a NFL player makes a field goal? In this problem we are interested in predicting the probability of NFL players to make a field goal. After assuming that the probability of NFL players to make a field goal follows a beta distribution, we observe the field goals data during multiple NFL matches in 2019. \n",
    "\n",
    "Let us describe the model specification. The prior distribution of the probability p follows beta distribution, with shape parameters alpha and beta. The likelihood, however, follows binomial distribution since we know explicitly about the number of successful and unsuccessful field goals.\n",
    "\n",
    "$$ Y \\sim Bin(n, p)$$\n",
    "$$ p \\sim Beta(\\alpha, \\beta)$$\n",
    "\n",
    "where $\\alpha$ and $\\beta$ are the hyperparameters of p."
   ]
  },
  {
   "cell_type": "markdown",
   "metadata": {},
   "source": [
    "## Question 1: Import Data\n",
    "Let us compile the read_csv function to read the NFL data file into a pandas DataFrame. Then, look at the first 5 lines. The file name of the CSV file is nfl.csv."
   ]
  },
  {
   "cell_type": "code",
   "execution_count": 3,
   "metadata": {
    "ExecuteTime": {
     "end_time": "2020-07-29T22:33:04.794103Z",
     "start_time": "2020-07-29T22:33:04.702245Z"
    }
   },
   "outputs": [
    {
     "data": {
      "text/html": [
       "<div>\n",
       "<style scoped>\n",
       "    .dataframe tbody tr th:only-of-type {\n",
       "        vertical-align: middle;\n",
       "    }\n",
       "\n",
       "    .dataframe tbody tr th {\n",
       "        vertical-align: top;\n",
       "    }\n",
       "\n",
       "    .dataframe thead th {\n",
       "        text-align: right;\n",
       "    }\n",
       "</style>\n",
       "<table border=\"1\" class=\"dataframe\">\n",
       "  <thead>\n",
       "    <tr style=\"text-align: right;\">\n",
       "      <th></th>\n",
       "      <th>Player</th>\n",
       "      <th>Team</th>\n",
       "      <th>PAT</th>\n",
       "      <th>FG</th>\n",
       "      <th>0-19</th>\n",
       "      <th>20-29</th>\n",
       "      <th>30-39</th>\n",
       "      <th>40-49</th>\n",
       "      <th>50+</th>\n",
       "      <th>Lg</th>\n",
       "      <th>Pts</th>\n",
       "    </tr>\n",
       "  </thead>\n",
       "  <tbody>\n",
       "    <tr>\n",
       "      <th>0</th>\n",
       "      <td>Harrison Butker</td>\n",
       "      <td>KC</td>\n",
       "      <td>0.938</td>\n",
       "      <td>0.895</td>\n",
       "      <td>0/0</td>\n",
       "      <td>9/9</td>\n",
       "      <td>9/10</td>\n",
       "      <td>13/13</td>\n",
       "      <td>3/6</td>\n",
       "      <td>56</td>\n",
       "      <td>147</td>\n",
       "    </tr>\n",
       "    <tr>\n",
       "      <th>1</th>\n",
       "      <td>Wil Lutz</td>\n",
       "      <td>NO</td>\n",
       "      <td>0.980</td>\n",
       "      <td>0.889</td>\n",
       "      <td>1/1</td>\n",
       "      <td>9/9</td>\n",
       "      <td>6/6</td>\n",
       "      <td>13/15</td>\n",
       "      <td>3/5</td>\n",
       "      <td>58</td>\n",
       "      <td>144</td>\n",
       "    </tr>\n",
       "    <tr>\n",
       "      <th>2</th>\n",
       "      <td>Justin Tucker</td>\n",
       "      <td>BAL</td>\n",
       "      <td>0.966</td>\n",
       "      <td>0.966</td>\n",
       "      <td>0/0</td>\n",
       "      <td>8/8</td>\n",
       "      <td>9/9</td>\n",
       "      <td>10/11</td>\n",
       "      <td>1/1</td>\n",
       "      <td>51</td>\n",
       "      <td>141</td>\n",
       "    </tr>\n",
       "    <tr>\n",
       "      <th>3</th>\n",
       "      <td>Zane Gonzalez</td>\n",
       "      <td>ARI</td>\n",
       "      <td>0.971</td>\n",
       "      <td>0.886</td>\n",
       "      <td>0/0</td>\n",
       "      <td>12/12</td>\n",
       "      <td>12/13</td>\n",
       "      <td>5/8</td>\n",
       "      <td>2/2</td>\n",
       "      <td>54</td>\n",
       "      <td>127</td>\n",
       "    </tr>\n",
       "    <tr>\n",
       "      <th>4</th>\n",
       "      <td>Matt Gay</td>\n",
       "      <td>TB</td>\n",
       "      <td>0.896</td>\n",
       "      <td>0.771</td>\n",
       "      <td>0/0</td>\n",
       "      <td>6/6</td>\n",
       "      <td>5/7</td>\n",
       "      <td>11/14</td>\n",
       "      <td>5/8</td>\n",
       "      <td>58</td>\n",
       "      <td>124</td>\n",
       "    </tr>\n",
       "  </tbody>\n",
       "</table>\n",
       "</div>"
      ],
      "text/plain": [
       "            Player Team    PAT     FG 0-19  20-29  30-39  40-49  50+  Lg  Pts\n",
       "0  Harrison Butker   KC  0.938  0.895  0/0    9/9   9/10  13/13  3/6  56  147\n",
       "1         Wil Lutz   NO  0.980  0.889  1/1    9/9    6/6  13/15  3/5  58  144\n",
       "2    Justin Tucker  BAL  0.966  0.966  0/0    8/8    9/9  10/11  1/1  51  141\n",
       "3    Zane Gonzalez  ARI  0.971  0.886  0/0  12/12  12/13    5/8  2/2  54  127\n",
       "4         Matt Gay   TB  0.896  0.771  0/0    6/6    5/7  11/14  5/8  58  124"
      ]
     },
     "execution_count": 3,
     "metadata": {},
     "output_type": "execute_result"
    }
   ],
   "source": [
    "# Answer\n",
    "file = 'nfl.csv'\n",
    "\n",
    "\n",
    "def read_csv(file):\n",
    "    \"\"\"Read the nfl.csv data and return the first few lines of \n",
    "    the csv file.\n",
    "\n",
    "    \"\"\"\n",
    "    ### BEGIN SOLUTION\n",
    "    data = pd.read_csv(file)\n",
    "    # And let's look at the first few lines\n",
    "    return data.head()\n",
    "\n",
    "    ### END SOLUTION\n",
    "read_csv(file)"
   ]
  },
  {
   "cell_type": "code",
   "execution_count": 4,
   "metadata": {
    "ExecuteTime": {
     "end_time": "2020-07-29T22:33:07.391070Z",
     "start_time": "2020-07-29T22:33:07.355758Z"
    },
    "collapsed": true,
    "scrolled": false
   },
   "outputs": [],
   "source": [
    "# Basic Test Case\n",
    "\"\"\"Check that read_csv function returns the correct dataframe output and format.\"\"\"\n",
    "df1 = read_csv(file)\n",
    "df2 = pd.read_csv(file).head()\n",
    "pdt.assert_frame_equal(df1, df2)\n",
    "# Data Type Test Case\n",
    "assert isinstance(read_csv(file), pd.core.frame.DataFrame)\n",
    "\n",
    "# Advanced Test Case"
   ]
  },
  {
   "cell_type": "markdown",
   "metadata": {},
   "source": [
    "## Question 2: Column Mean\n",
    "Let us define the column_mean function which takes the csv file and the column name as inputs, and returns the mean probability of making field goals. (Look at the FG column)"
   ]
  },
  {
   "cell_type": "code",
   "execution_count": 5,
   "metadata": {
    "ExecuteTime": {
     "end_time": "2020-07-29T22:33:09.148102Z",
     "start_time": "2020-07-29T22:33:09.124012Z"
    }
   },
   "outputs": [
    {
     "data": {
      "text/plain": [
       "0.8363200000000002"
      ]
     },
     "execution_count": 5,
     "metadata": {},
     "output_type": "execute_result"
    }
   ],
   "source": [
    "# Sample Answer\n",
    "column = 'FG'\n",
    "\n",
    "\n",
    "def column_mean(file, column):\n",
    "    \"\"\"Take the nfl.csv file and a specific column as input.\n",
    "    Compute the mean value for a column in pandas dataframe.\n",
    "\n",
    "    \"\"\"\n",
    "    ### BEGIN SOLUTION\n",
    "    data = pd.read_csv(file)\n",
    "    return data[column].mean()\n",
    "\n",
    "    ### END SOLUTION\n",
    "column_mean(file, column)"
   ]
  },
  {
   "cell_type": "code",
   "execution_count": 6,
   "metadata": {
    "ExecuteTime": {
     "end_time": "2020-07-29T22:33:11.521711Z",
     "start_time": "2020-07-29T22:33:11.494344Z"
    },
    "collapsed": true
   },
   "outputs": [],
   "source": [
    "# Basic Test Case\n",
    "\"\"\"Test whether the data type and value of column mean are correctly returned.\"\"\"\n",
    "assert column_mean(file, column) == pd.read_csv(file)[column].mean()\n",
    "assert 0.836319 <= column_mean(file, column) <= 0.836321\n",
    "# Advanced Test Cases\n",
    "assert isinstance(column_mean(file, column), (np.float64, float))"
   ]
  },
  {
   "cell_type": "markdown",
   "metadata": {},
   "source": [
    "## Question 3: Specify Prior and Likelihood\n",
    "\n",
    "Let us specify the prior and likelihood. We are going to split two code chunks to perform the following steps:\n",
    "\n",
    "In the first code chunk, we initialize a random number generator as 123 to make the random numbers predictable. Then, we assign the hyperparameters of prior. In this question we use beta distribution as the prior. Beta distribution has two shape parameters, which is alpha and beta. We set the parameter names as alpha and beta, and assign values 40 and 20, respectively. Finally, we set the sample size as 100, using the parameter name size.\n",
    "\n",
    "In the second code chunk, we set up a variable observed, which is the observed outcome variable. We define a function called likelihood which takes a csv file, a column in the dataset and the sample size as inputs, and return the observed outcome variable, which the product of size and the mean field goal probability. (You can take the result from question 2)."
   ]
  },
  {
   "cell_type": "code",
   "execution_count": 7,
   "metadata": {
    "ExecuteTime": {
     "end_time": "2020-07-29T22:33:14.245223Z",
     "start_time": "2020-07-29T22:33:14.231724Z"
    },
    "collapsed": true
   },
   "outputs": [],
   "source": [
    "# Sample answer\n",
    "\n",
    "### BEGIN SOLUTION\n",
    "# We initialize random number generator seed for reproducible results\n",
    "np.random.seed(123)\n",
    "\n",
    "# We assign the hyperparameters of prior\n",
    "# We assign the shape parameters alpha and beta as 40 and 20.  \n",
    "alpha, beta = 40, 20\n",
    "\n",
    "# Then we make up the sample size as 100\n",
    "size = 100\n",
    "### END SOLUTION"
   ]
  },
  {
   "cell_type": "code",
   "execution_count": 8,
   "metadata": {
    "ExecuteTime": {
     "end_time": "2020-07-29T22:33:16.863445Z",
     "start_time": "2020-07-29T22:33:16.799894Z"
    },
    "collapsed": true
   },
   "outputs": [],
   "source": [
    "# Basic Test Case\n",
    "from nose.tools import assert_equal\n",
    "assert_equal(alpha, 40)\n",
    "assert_equal(beta, 20)\n",
    "assert_equal(size, 100)"
   ]
  },
  {
   "cell_type": "code",
   "execution_count": 9,
   "metadata": {
    "ExecuteTime": {
     "end_time": "2020-07-29T22:33:18.585268Z",
     "start_time": "2020-07-29T22:33:18.567667Z"
    },
    "collapsed": true
   },
   "outputs": [],
   "source": [
    "# Finally, we set up Y the observed outcome variable as the product of size and mean field goal probability\n",
    "\n",
    "def likelihood(file, column, size):\n",
    "    \"\"\"Compute the product of the column mean of field goal probability among NFL players and \n",
    "    sample size.\n",
    "    \"\"\"\n",
    "    ### BEGIN SOLUTION\n",
    "    observed = column_mean(file, column) * size\n",
    "    return observed\n",
    "    ### END SOLUTION\n",
    "observed = likelihood(file, column, size)"
   ]
  },
  {
   "cell_type": "code",
   "execution_count": 10,
   "metadata": {
    "ExecuteTime": {
     "end_time": "2020-07-29T22:33:21.859208Z",
     "start_time": "2020-07-29T22:33:21.829644Z"
    },
    "collapsed": true
   },
   "outputs": [],
   "source": [
    "# Basic Test Case\n",
    "assert_equal(likelihood(file, column, size), column_mean(file, column) * size)\n",
    "# Advanced Test Case\n",
    "assert 83 <= likelihood(file, column, size) <= 84\n",
    "assert isinstance(likelihood(file, column, size), (np.float64, float))"
   ]
  },
  {
   "cell_type": "markdown",
   "metadata": {},
   "source": [
    "## Optional Question\n",
    "\n",
    "You can run the following code to generate a plot for the beta distribution based on the alpha and beta parameters you defined above. Here the scipy.stats.beta function and matplotlib package are used to generate the probability density function plot."
   ]
  },
  {
   "cell_type": "code",
   "execution_count": 11,
   "metadata": {
    "ExecuteTime": {
     "end_time": "2020-07-29T22:33:24.485159Z",
     "start_time": "2020-07-29T22:33:23.621295Z"
    },
    "scrolled": true
   },
   "outputs": [
    {
     "data": {
      "image/png": "[encoded data removed]",
      "text/plain": [
       "<Figure size 576x576 with 1 Axes>"
      ]
     },
     "metadata": {},
     "output_type": "display_data"
    }
   ],
   "source": [
    "# We define the linestyle and set up a linear space to clearly plot the beta distribution\n",
    "x = np.linspace(0,1,1002)[1:-1]\n",
    "\n",
    "# Then, we use scipy.stats.beta function to set up beta distribution\n",
    "dist = stats.beta(alpha, beta)\n",
    "\n",
    "# Now we want to define a plot_beta_pdf function to generate a figure \n",
    "# showing the probability density function of the beta distribution\n",
    "def plot_beta_pdf(x,dist):\n",
    "    # Note that we want the figure to be 8 inches height and 8 inches width\n",
    "    plt.figure(figsize=(8,8))\n",
    "    \n",
    "    # We read the linear space and the beta pdf into the plot, and we want to generate a \n",
    "    # continuous and black curve. We also want to show a legend at the top-right corner with \n",
    "    # the alpha and beta value\n",
    "    plt.plot(x, dist.pdf(x), ls = '-', c = 'black',\n",
    "    label = r'$\\alpha = %.1f,\\ \\beta=%.1f$' % (alpha, beta))\n",
    "    plt.legend(loc = 0)\n",
    "    \n",
    "    # Finally, we set up the value ranges and labels for x-axis and y-axis and show the plot\n",
    "    plt.xlim(0,1)\n",
    "    plt.ylim(0,10)\n",
    "    plt.xlabel('$x$')\n",
    "    plt.ylabel(r'$p(x|\\alpha, \\beta)$')\n",
    "    plt.title('Beta Distribution')\n",
    "    plt.show()\n",
    "  \n",
    "plot_beta_pdf(x,dist)"
   ]
  },
  {
   "cell_type": "markdown",
   "metadata": {},
   "source": [
    "You will see that the beta distribution curve surprisingly resembles the case when we conduct binomial trials with roughly 40 successes and 20 failures.\n",
    "\n",
    "In fact, we can think of $\\alpha - 1$ as the number of successes and $\\beta - 1$ as the number of failures. You can choose the $\\alpha$ and $\\beta$ parameters however you think they should look like. If you want the probability of success to become very high, let us say 95 percent, set 95 for $\\alpha$ and 5 for $\\beta$. If you think otherwise, let us say 5 percent, set 95 for $\\beta$ and 5 for $\\alpha$."
   ]
  },
  {
   "cell_type": "code",
   "execution_count": 12,
   "metadata": {
    "ExecuteTime": {
     "end_time": "2020-07-29T22:33:34.162754Z",
     "start_time": "2020-07-29T22:33:30.284084Z"
    },
    "scrolled": true
   },
   "outputs": [
    {
     "name": "stderr",
     "output_type": "stream",
     "text": [
      "/Users/son520804/anaconda3/lib/python3.6/site-packages/theano/configdefaults.py:560: UserWarning: DeprecationWarning: there is no c++ compiler.This is deprecated and with Theano 0.11 a c++ compiler will be mandatory\n",
      "  warnings.warn(\"DeprecationWarning: there is no c++ compiler.\"\n",
      "WARNING (theano.configdefaults): g++ not detected ! Theano will be unable to execute optimized C-implementations (for both CPU and GPU) and will default to Python implementations. Performance will be severely degraded. To remove this warning, set Theano flags cxx to an empty string.\n",
      "WARNING (theano.tensor.blas): Using NumPy C-API based implementation for BLAS functions.\n",
      "/Users/son520804/anaconda3/lib/python3.6/site-packages/h5py/__init__.py:34: FutureWarning: Conversion of the second argument of issubdtype from `float` to `np.floating` is deprecated. In future, it will be treated as `np.float64 == np.dtype(float).type`.\n",
      "  from ._conv import register_converters as _register_converters\n"
     ]
    }
   ],
   "source": [
    "import pymc3 as pm"
   ]
  },
  {
   "cell_type": "code",
   "execution_count": 13,
   "metadata": {
    "ExecuteTime": {
     "end_time": "2020-07-29T22:33:36.155093Z",
     "start_time": "2020-07-29T22:33:36.147693Z"
    },
    "collapsed": true
   },
   "outputs": [],
   "source": [
    "# Hide\n",
    "import unittest"
   ]
  },
  {
   "cell_type": "markdown",
   "metadata": {},
   "source": [
    "## Question 4: Train MCMC sampler\n",
    "\n",
    "Let us train the Markov Chain Monte Carlo sampler. In this example, we use the default NUTS algorithm to sample the posterior distribution. We need to perform the following steps:\n",
    "\n",
    "First we set a variable called niter, the number of draw, to 1000.\n",
    "\n",
    "Second, we instantiate the model object.\n",
    "\n",
    "Third, we specify the beta distribution as the prior for the probability of making a field goal, using the variable name p. Please remember to use the alpha and beta value specified from question 3. Note that the function for assigning beta distribution is pm.Beta().\n",
    "\n",
    "We also specify the observed likelihood as binomial distribution, using the variable name y. The parameters taken are sample size (n), probability (p) and observed data (observed). Note that the function for binomial distribution is pm.Binomial().\n",
    "\n",
    "Finally, we start the sampler to take 1000 draws (from niter variable) and take 3 chains. We also provide a seed to the random_seed generator to make the results reproducible. The results should be returned as a trace object."
   ]
  },
  {
   "cell_type": "code",
   "execution_count": 14,
   "metadata": {
    "ExecuteTime": {
     "end_time": "2020-07-29T22:34:02.177206Z",
     "start_time": "2020-07-29T22:33:40.121491Z"
    }
   },
   "outputs": [
    {
     "name": "stderr",
     "output_type": "stream",
     "text": [
      "Auto-assigning NUTS sampler...\n",
      "Initializing NUTS using jitter+adapt_diag...\n",
      "Multiprocess sampling (3 chains in 2 jobs)\n",
      "NUTS: [p]\n",
      "Sampling 3 chains, 0 divergences: 100%|██████████| 4500/4500 [00:17<00:00, 263.22draws/s]\n",
      "The acceptance probability does not match the target. It is 0.8934043875917739, but should be close to 0.8. Try to increase the number of tuning steps.\n"
     ]
    },
    {
     "data": {
      "text/plain": [
       "<MultiTrace: 3 chains, 1000 iterations, 2 variables>"
      ]
     },
     "execution_count": 14,
     "metadata": {},
     "output_type": "execute_result"
    }
   ],
   "source": [
    "# Sample answer\n",
    "seed = 1000\n",
    "def sampler(alpha, beta, size, observed, seed):\n",
    "    \"\"\"Train a MCMC sampler to generate posterior samples for the \n",
    "    field goal probability.\n",
    "    \n",
    "    \"\"\"\n",
    "    ### BEGIN SOLUTION\n",
    "    niter = 1000\n",
    "    model = pm.Model()\n",
    "\n",
    "    with model:\n",
    "        p = pm.Beta('p', alpha=alpha, beta=beta)\n",
    "\n",
    "        # Specify the likelihood function (sampling distribution)\n",
    "        y = pm.Binomial('y', n=size, p=p, observed=observed)\n",
    "        trace = pm.sample(niter, chains = 3, random_seed = seed)\n",
    "    return trace\n",
    "    ### END SOLUTION\n",
    "trace = sampler(alpha, beta, size, observed, seed)\n",
    "trace"
   ]
  },
  {
   "cell_type": "code",
   "execution_count": 15,
   "metadata": {
    "ExecuteTime": {
     "end_time": "2020-07-29T22:34:52.841802Z",
     "start_time": "2020-07-29T22:34:52.829541Z"
    },
    "collapsed": true
   },
   "outputs": [],
   "source": [
    "# Test Cases\n",
    "\"\"\"Check the correctness of parameters assigned to the PyMC3 model.\"\"\"\n",
    "#assert_equal(seed, 1000)\n",
    "assert isinstance(trace, (pm.backends.base.MultiTrace))\n",
    "assert_equal(trace.varnames, ['p_logodds__', 'p'])\n",
    "assert_equal(len(trace['p']), 3000)\n",
    "#\n",
    "#"
   ]
  },
  {
   "cell_type": "markdown",
   "metadata": {},
   "source": [
    "## Posterior Diagnostics"
   ]
  },
  {
   "cell_type": "markdown",
   "metadata": {},
   "source": [
    "## Question 5\n",
    "\n",
    "Now we look at the posterior diagnostics. Recall we will plot a traceplot to visualize the posterior distribution of parameters of interest. In addition, we also obtain Gelman-Rubin statistics to check whether the parameter of interest converges.\n",
    "\n",
    "a) Define a function named traceplot which takes the trace object as input and returns a traceplot for the variable p, the probability of making a field goal. "
   ]
  },
  {
   "cell_type": "code",
   "execution_count": 16,
   "metadata": {
    "ExecuteTime": {
     "end_time": "2020-07-29T22:34:58.690429Z",
     "start_time": "2020-07-29T22:34:55.990692Z"
    }
   },
   "outputs": [
    {
     "name": "stderr",
     "output_type": "stream",
     "text": [
      "/Users/son520804/anaconda3/lib/python3.6/site-packages/pymc3/plots/__init__.py:21: UserWarning: Keyword argument `varnames` renamed to `var_names`, and will be removed in pymc3 3.8\n",
      "  warnings.warn('Keyword argument `{old}` renamed to `{new}`, and will be removed in pymc3 3.8'.format(old=old, new=new))\n"
     ]
    },
    {
     "data": {
      "image/png": "[encoded data removed]",
      "text/plain": [
       "<Figure size 864x144 with 2 Axes>"
      ]
     },
     "metadata": {},
     "output_type": "display_data"
    }
   ],
   "source": [
    "# Answer 5a\n",
    "# Plot results Traceplot\n",
    "def traceplot(trace):\n",
    "    \"\"\"Generate the posterior density plot and trajectory plot for the field goal probability.\"\"\"\n",
    "    \n",
    "    # BEGIN SOLUTION\n",
    "    return pm.traceplot(trace, varnames = ['p'])\n",
    "    # END SOLUTION\n",
    "traceplot(trace)\n",
    "plt.show()"
   ]
  },
  {
   "cell_type": "code",
   "execution_count": 17,
   "metadata": {
    "ExecuteTime": {
     "end_time": "2020-07-29T22:35:07.091282Z",
     "start_time": "2020-07-29T22:35:00.816076Z"
    }
   },
   "outputs": [
    {
     "name": "stderr",
     "output_type": "stream",
     "text": [
      "/Users/son520804/anaconda3/lib/python3.6/site-packages/pymc3/plots/__init__.py:21: UserWarning: Keyword argument `varnames` renamed to `var_names`, and will be removed in pymc3 3.8\n",
      "  warnings.warn('Keyword argument `{old}` renamed to `{new}`, and will be removed in pymc3 3.8'.format(old=old, new=new))\n",
      "/Users/son520804/anaconda3/lib/python3.6/site-packages/pymc3/plots/__init__.py:21: UserWarning: Keyword argument `varnames` renamed to `var_names`, and will be removed in pymc3 3.8\n",
      "  warnings.warn('Keyword argument `{old}` renamed to `{new}`, and will be removed in pymc3 3.8'.format(old=old, new=new))\n",
      "/Users/son520804/anaconda3/lib/python3.6/site-packages/pymc3/plots/__init__.py:21: UserWarning: Keyword argument `varnames` renamed to `var_names`, and will be removed in pymc3 3.8\n",
      "  warnings.warn('Keyword argument `{old}` renamed to `{new}`, and will be removed in pymc3 3.8'.format(old=old, new=new))\n"
     ]
    }
   ],
   "source": [
    "# Test cases\n",
    "\"\"\"Check the length data type and shape of the traceplot object for sanity purpose.\n",
    "To make sure the number of plots generated are correct.\"\"\"\n",
    "assert_equal(len(traceplot(trace)), 1)\n",
    "assert isinstance(traceplot(trace), np.ndarray)\n",
    "assert_equal(traceplot(trace).shape, (1,2))"
   ]
  },
  {
   "cell_type": "markdown",
   "metadata": {},
   "source": [
    "b) (Optional) What trends do you see in the posterior distribution of the probability of making a field goal?"
   ]
  },
  {
   "cell_type": "markdown",
   "metadata": {},
   "source": [
    "c) Define a function named posterior_summary which takes a trace object as input and displays a table-based summary of posterior statistics rounded by 2 digits. "
   ]
  },
  {
   "cell_type": "code",
   "execution_count": 19,
   "metadata": {
    "ExecuteTime": {
     "end_time": "2020-07-29T22:35:40.375037Z",
     "start_time": "2020-07-29T22:35:40.365844Z"
    },
    "collapsed": true
   },
   "outputs": [],
   "source": [
    "# Answer 5c\n",
    "# Obtain summary statistics for posterior distributions\n",
    "def posterior_summary(trace):\n",
    "    \"\"\"Generate a table-based summary for the field goal probability.\"\"\"\n",
    "    # BEGIN SOLUTION\n",
    "    return pm.summary(trace).round(2)\n",
    "    # END SOLUTION"
   ]
  },
  {
   "cell_type": "code",
   "execution_count": 20,
   "metadata": {
    "ExecuteTime": {
     "end_time": "2020-07-29T22:35:44.933999Z",
     "start_time": "2020-07-29T22:35:41.614548Z"
    },
    "collapsed": true
   },
   "outputs": [],
   "source": [
    "# Test Cases\n",
    "\"\"\"Check whether the summary output is correctly generated.\"\"\"\n",
    "sum1 = posterior_summary(trace)\n",
    "sum2 = pm.summary(trace).round(2)\n",
    "pdt.assert_frame_equal(sum1, sum2)\n",
    "assert_equal(posterior_summary(trace).shape, (1, 11))"
   ]
  },
  {
   "cell_type": "markdown",
   "metadata": {},
   "source": [
    "d) What is the posterior mean and standard deviation of the probability of making a field goal? Define a function posterior_statistics which takes a trace object as input and return the posterior mean and posterior standard deviation as a tuple looks like (mean, sd)."
   ]
  },
  {
   "cell_type": "code",
   "execution_count": 21,
   "metadata": {
    "ExecuteTime": {
     "end_time": "2020-07-29T22:35:53.495481Z",
     "start_time": "2020-07-29T22:35:51.240717Z"
    }
   },
   "outputs": [
    {
     "data": {
      "text/plain": [
       "(0.77, 0.03)"
      ]
     },
     "execution_count": 21,
     "metadata": {},
     "output_type": "execute_result"
    }
   ],
   "source": [
    "# Answer 5d\n",
    "\n",
    "def posterior_statistics(trace):\n",
    "    return (posterior_summary(trace).iloc[0,0], posterior_summary(trace).iloc[0,1])\n",
    "posterior_statistics(trace)"
   ]
  },
  {
   "cell_type": "code",
   "execution_count": 23,
   "metadata": {
    "ExecuteTime": {
     "end_time": "2020-07-29T22:36:07.548785Z",
     "start_time": "2020-07-29T22:36:01.895007Z"
    },
    "collapsed": true
   },
   "outputs": [],
   "source": [
    "# Test Cases\n",
    "\"\"\"Check whether the posterior mean and posterior standard deviation are correctly generated.\"\"\"\n",
    "assert_equal(posterior_statistics(trace), \n",
    "             tuple([posterior_summary(trace).iloc[0,0], posterior_summary(trace).iloc[0,1]]))\n",
    "assert isinstance(posterior_statistics(trace), tuple)\n",
    "assert_equal(len(posterior_statistics(trace)), 2)\n"
   ]
  },
  {
   "cell_type": "markdown",
   "metadata": {},
   "source": [
    "e) Define a function named gelman_rubin which takes a trace object as input and return the Gelman-Rubin statistics. Does the posterior distribution converge?"
   ]
  },
  {
   "cell_type": "code",
   "execution_count": 30,
   "metadata": {
    "ExecuteTime": {
     "end_time": "2020-07-30T02:36:30.924609Z",
     "start_time": "2020-07-30T02:36:29.487384Z"
    }
   },
   "outputs": [
    {
     "name": "stderr",
     "output_type": "stream",
     "text": [
      "/Users/son520804/anaconda3/lib/python3.6/site-packages/pymc3/stats/__init__.py:43: UserWarning: gelman_rubin has been deprecated. In the future, use rhat instead.\n",
      "  warnings.warn(\"gelman_rubin has been deprecated. In the future, use rhat instead.\")\n",
      "/Users/son520804/anaconda3/lib/python3.6/site-packages/pymc3/stats/__init__.py:21: UserWarning: Keyword argument `varnames` renamed to `var_names`, and will be removed in pymc3 3.9\n",
      "  \"pymc3 3.9\".format(old=old, new=new)\n"
     ]
    },
    {
     "name": "stdout",
     "output_type": "stream",
     "text": [
      "<xarray.Dataset>\n",
      "Dimensions:  ()\n",
      "Data variables:\n",
      "    p        float64 1.004\n"
     ]
    }
   ],
   "source": [
    "# Answer\n",
    "# Get Gelman-Rubin Convergence Criterion\n",
    "def gelman_rubin(trace):\n",
    "    \"\"\"Compute Gelman-Rubin statistics for the posterior samples of field goal probability.\"\"\"\n",
    "    ### BEGIN SOLUTION\n",
    "    return print(pm.gelman_rubin(trace,\n",
    "                     varnames=['p']))\n",
    "    ### END SOLUTION\n",
    "gelman_rubin(trace)"
   ]
  },
  {
   "cell_type": "code",
   "execution_count": 31,
   "metadata": {
    "ExecuteTime": {
     "end_time": "2020-07-30T02:36:37.954706Z",
     "start_time": "2020-07-30T02:36:35.014430Z"
    }
   },
   "outputs": [
    {
     "name": "stderr",
     "output_type": "stream",
     "text": [
      "/Users/son520804/anaconda3/lib/python3.6/site-packages/pymc3/stats/__init__.py:43: UserWarning: gelman_rubin has been deprecated. In the future, use rhat instead.\n",
      "  warnings.warn(\"gelman_rubin has been deprecated. In the future, use rhat instead.\")\n",
      "/Users/son520804/anaconda3/lib/python3.6/site-packages/pymc3/stats/__init__.py:21: UserWarning: Keyword argument `varnames` renamed to `var_names`, and will be removed in pymc3 3.9\n",
      "  \"pymc3 3.9\".format(old=old, new=new)\n"
     ]
    },
    {
     "name": "stdout",
     "output_type": "stream",
     "text": [
      "<xarray.Dataset>\n",
      "Dimensions:  ()\n",
      "Data variables:\n",
      "    p        float64 1.004\n"
     ]
    },
    {
     "name": "stderr",
     "output_type": "stream",
     "text": [
      "/Users/son520804/anaconda3/lib/python3.6/site-packages/pymc3/stats/__init__.py:43: UserWarning: gelman_rubin has been deprecated. In the future, use rhat instead.\n",
      "  warnings.warn(\"gelman_rubin has been deprecated. In the future, use rhat instead.\")\n",
      "/Users/son520804/anaconda3/lib/python3.6/site-packages/pymc3/stats/__init__.py:21: UserWarning: Keyword argument `varnames` renamed to `var_names`, and will be removed in pymc3 3.9\n",
      "  \"pymc3 3.9\".format(old=old, new=new)\n"
     ]
    },
    {
     "name": "stdout",
     "output_type": "stream",
     "text": [
      "<xarray.Dataset>\n",
      "Dimensions:  ()\n",
      "Data variables:\n",
      "    p        float64 1.004\n"
     ]
    },
    {
     "ename": "TypeError",
     "evalue": "'<=' not supported between instances of 'int' and 'NoneType'",
     "output_type": "error",
     "traceback": [
      "\u001b[0;31m---------------------------------------------------------------------------\u001b[0m",
      "\u001b[0;31mTypeError\u001b[0m                                 Traceback (most recent call last)",
      "\u001b[0;32m<ipython-input-31-8beb37cc2101>\u001b[0m in \u001b[0;36m<module>\u001b[0;34m()\u001b[0m\n\u001b[1;32m      1\u001b[0m \u001b[0;31m# Test cases\u001b[0m\u001b[0;34m\u001b[0m\u001b[0;34m\u001b[0m\u001b[0;34m\u001b[0m\u001b[0m\n\u001b[1;32m      2\u001b[0m \u001b[0massert_equal\u001b[0m\u001b[0;34m(\u001b[0m\u001b[0mgelman_rubin\u001b[0m\u001b[0;34m(\u001b[0m\u001b[0mtrace\u001b[0m\u001b[0;34m)\u001b[0m\u001b[0;34m,\u001b[0m \u001b[0mpm\u001b[0m\u001b[0;34m.\u001b[0m\u001b[0mgelman_rubin\u001b[0m\u001b[0;34m(\u001b[0m\u001b[0mtrace\u001b[0m\u001b[0;34m,\u001b[0m\u001b[0mvarnames\u001b[0m\u001b[0;34m=\u001b[0m\u001b[0;34m[\u001b[0m\u001b[0;34m'p'\u001b[0m\u001b[0;34m]\u001b[0m\u001b[0;34m)\u001b[0m\u001b[0;34m)\u001b[0m\u001b[0;34m\u001b[0m\u001b[0;34m\u001b[0m\u001b[0m\n\u001b[0;32m----> 3\u001b[0;31m \u001b[0;32massert\u001b[0m \u001b[0;36m1\u001b[0m \u001b[0;34m<=\u001b[0m \u001b[0mgelman_rubin\u001b[0m\u001b[0;34m(\u001b[0m\u001b[0mtrace\u001b[0m\u001b[0;34m)\u001b[0m \u001b[0;34m<=\u001b[0m \u001b[0;36m1.1\u001b[0m\u001b[0;34m\u001b[0m\u001b[0;34m\u001b[0m\u001b[0m\n\u001b[0m",
      "\u001b[0;31mTypeError\u001b[0m: '<=' not supported between instances of 'int' and 'NoneType'"
     ]
    }
   ],
   "source": [
    "# Test cases\n",
    "assert_equal(gelman_rubin(trace), pm.gelman_rubin(trace,varnames=['p']))\n",
    "#assert 1 <= gelman_rubin(trace) <= 1.1"
   ]
  },
  {
   "cell_type": "code",
   "execution_count": 35,
   "metadata": {
    "ExecuteTime": {
     "end_time": "2020-07-30T02:37:33.403132Z",
     "start_time": "2020-07-30T02:37:32.335804Z"
    }
   },
   "outputs": [
    {
     "name": "stderr",
     "output_type": "stream",
     "text": [
      "/Users/son520804/anaconda3/lib/python3.6/site-packages/pymc3/stats/__init__.py:43: UserWarning: gelman_rubin has been deprecated. In the future, use rhat instead.\n",
      "  warnings.warn(\"gelman_rubin has been deprecated. In the future, use rhat instead.\")\n",
      "/Users/son520804/anaconda3/lib/python3.6/site-packages/pymc3/stats/__init__.py:21: UserWarning: Keyword argument `varnames` renamed to `var_names`, and will be removed in pymc3 3.9\n",
      "  \"pymc3 3.9\".format(old=old, new=new)\n"
     ]
    },
    {
     "name": "stdout",
     "output_type": "stream",
     "text": [
      "<xarray.Dataset>\n",
      "Dimensions:  ()\n",
      "Data variables:\n",
      "    p        float64 1.004\n"
     ]
    },
    {
     "ename": "NameError",
     "evalue": "name 'p' is not defined",
     "output_type": "error",
     "traceback": [
      "\u001b[0;31m---------------------------------------------------------------------------\u001b[0m",
      "\u001b[0;31mNameError\u001b[0m                                 Traceback (most recent call last)",
      "\u001b[0;32m<ipython-input-35-e45b906b41f6>\u001b[0m in \u001b[0;36m<module>\u001b[0;34m()\u001b[0m\n\u001b[0;32m----> 1\u001b[0;31m \u001b[0mgelman_rubin\u001b[0m\u001b[0;34m(\u001b[0m\u001b[0mtrace\u001b[0m\u001b[0;34m)\u001b[0m\u001b[0;34m[\u001b[0m\u001b[0mp\u001b[0m\u001b[0;34m]\u001b[0m\u001b[0;34m\u001b[0m\u001b[0;34m\u001b[0m\u001b[0m\n\u001b[0m",
      "\u001b[0;31mNameError\u001b[0m: name 'p' is not defined"
     ]
    }
   ],
   "source": [
    "gelman_rubin(trace)[p]"
   ]
  },
  {
   "cell_type": "markdown",
   "metadata": {},
   "source": [
    "## Bonus Section:"
   ]
  },
  {
   "cell_type": "markdown",
   "metadata": {},
   "source": [
    "### Effective sample size\n",
    "\n",
    "The calculation of effective sample size is given by the following formula:\n",
    "$$\\hat{n}_{eff} = \\frac{mn}{1 + 2 \\sum_{t=1}^T \\hat{\\rho}_t}$$\n",
    "where m is the number of chains, n the number of steps per chain, T the time when the autocorrelation first becomes negative, and ρ̂_t the autocorrelation at lag t.\n",
    "\n"
   ]
  },
  {
   "cell_type": "code",
   "execution_count": 101,
   "metadata": {
    "scrolled": true
   },
   "outputs": [
    {
     "name": "stderr",
     "output_type": "stream",
     "text": [
      "/Users/son520804/anaconda3/lib/python3.6/site-packages/pymc3/stats/__init__.py:50: UserWarning: effective_n has been deprecated. In the future, use ess instead.\n",
      "  warnings.warn(\"effective_n has been deprecated. In the future, use ess instead.\")\n"
     ]
    },
    {
     "data": {
      "text/html": [
       "<pre>&lt;xarray.Dataset&gt;\n",
       "Dimensions:  ()\n",
       "Data variables:\n",
       "    p        float64 1.271e+03</pre>"
      ],
      "text/plain": [
       "<xarray.Dataset>\n",
       "Dimensions:  ()\n",
       "Data variables:\n",
       "    p        float64 1.271e+03"
      ]
     },
     "execution_count": 101,
     "metadata": {},
     "output_type": "execute_result"
    }
   ],
   "source": [
    "## Calculate effective sample size\n",
    "pm.effective_n(trace)"
   ]
  },
  {
   "cell_type": "markdown",
   "metadata": {},
   "source": [
    "As you can see, the effective sample size is 1271 for the total of the 3 chains. Since by default, the tuning sample is 500, leaving 500 samples to be resampled. So that means the autocorrelation is not extreme, the MCMC converges well."
   ]
  },
  {
   "cell_type": "markdown",
   "metadata": {},
   "source": [
    "### Geweke Statistics\n",
    "\n",
    "As an alternative of Gelman-Rubin statistics, Geweke provides a sanity check of the convergence of MCMC chains. Geweke statistics compares the mean and variance of segments from the beginning and end of each single MCMC chain for a parameter. If the absolute value of Geweke statistics exceeds 1, it indicates a lack of convergence and suggests that additional samples are requred to achieve convergence."
   ]
  },
  {
   "cell_type": "code",
   "execution_count": 36,
   "metadata": {
    "scrolled": false
   },
   "outputs": [
    {
     "data": {
      "image/png": "[encoded data removed]",
      "text/plain": [
       "<Figure size 432x288 with 1 Axes>"
      ]
     },
     "metadata": {},
     "output_type": "display_data"
    }
   ],
   "source": [
    "# We can create a plot to show the trajectory of Geweke statistics \n",
    "plt.plot(pm.geweke(trace['p'])[:,1], 'o')\n",
    "plt.axhline(1, c='red')\n",
    "plt.axhline(-1, c='red')\n",
    "plt.gca().margins(0.05)\n",
    "plt.show()\n",
    "pass"
   ]
  },
  {
   "cell_type": "markdown",
   "metadata": {},
   "source": [
    "Since the Geweke statistics are less than 1 in absolute value, it indicates a good convergence in the MCMC chains."
   ]
  },
  {
   "cell_type": "markdown",
   "metadata": {},
   "source": [
    "# Debug Question\n",
    "\n",
    "The following question requires you to read the code carefully and correct the codes with errors. A Umich cognitive science research team want to produce an elegant code to run a MCMC sampler to determine the IQ distribution of the undergraduate students studying at the University of Michigan. They studied the literature and inferred the following priors:\n",
    "\n",
    "$IQ \\sim Normal(mean = 105, variance = 7^2)$\n",
    "\n",
    "$\\sigma(IQ) \\sim HalfNormal(\\beta = 2)$\n",
    "\n",
    "Then they collected experimental data from 100 students who took the Wechsler Adult Intelligence Scale (WAIS) test at the cognitive science building. The first code chunk gives their test results.\n",
    "\n",
    "After debugging the code, the resulting code should be error-free and return the trace object."
   ]
  },
  {
   "cell_type": "code",
   "execution_count": 36,
   "metadata": {
    "ExecuteTime": {
     "end_time": "2020-07-30T17:17:51.472925Z",
     "start_time": "2020-07-30T17:17:51.330657Z"
    },
    "collapsed": true
   },
   "outputs": [],
   "source": [
    "# IQ test results for the 100 students\n",
    "np.random.seed(123)\n",
    "y = np.random.normal(100, 15, 100)"
   ]
  },
  {
   "cell_type": "code",
   "execution_count": 37,
   "metadata": {
    "ExecuteTime": {
     "end_time": "2020-07-30T17:21:05.773701Z",
     "start_time": "2020-07-30T17:17:52.437854Z"
    }
   },
   "outputs": [
    {
     "name": "stderr",
     "output_type": "stream",
     "text": [
      "Auto-assigning NUTS sampler...\n",
      "Initializing NUTS using jitter+adapt_diag...\n",
      "Multiprocess sampling (3 chains in 2 jobs)\n",
      "NUTS: [sigma, mu]\n",
      "Sampling 3 chains, 0 divergences: 100%|██████████| 4500/4500 [02:46<00:00, 27.04draws/s]\n"
     ]
    }
   ],
   "source": [
    "# Hierarchical Bayesian Modeling\n",
    "\n",
    "seed = 123\n",
    "niter = 1000\n",
    "nchains = 3\n",
    "with pm.Model() as model:\n",
    "    \"\"\"Deploy NUTS sampler to update the distribution for students' IQ.\"\"\"\n",
    "    \n",
    "    ### BEGIN CODE\n",
    "    mu = pm.Normal('mu', mu = 105, sigma = 7)\n",
    "    sigma = pm.HalfCauchy('sigma', beta = 2)\n",
    "    y_observed = pm.Normal('y_observed',\n",
    "                mu=mu,\n",
    "                sigma=sigma,\n",
    "                observed=y)\n",
    "    \n",
    "    trace2 = pm.sample(niter, chains = nchains, random_seed = seed)\n",
    "    ### END CODE"
   ]
  },
  {
   "cell_type": "code",
   "execution_count": 39,
   "metadata": {
    "ExecuteTime": {
     "end_time": "2020-08-04T18:18:54.447102Z",
     "start_time": "2020-08-04T18:18:27.403401Z"
    }
   },
   "outputs": [
    {
     "data": {
      "text/plain": [
       "(2, 11)"
      ]
     },
     "execution_count": 39,
     "metadata": {},
     "output_type": "execute_result"
    }
   ],
   "source": [
    "# Test cases\n",
    "assert_equal(type(posterior_summary(trace2)), pd.core.frame.DataFrame)\n",
    "assert_equal(posterior_summary(trace2).shape, (2,11))"
   ]
  },
  {
   "cell_type": "markdown",
   "metadata": {},
   "source": [
    "Reference:\n",
    "    1. https://docs.pymc.io/api/stats.html\n",
    "    2. http://pymc-devs.github.io/pymc/modelchecking.html?highlight=geweke\n",
    "    3. Wagenmakers, E., Morey, R. D., & Lee, M. D. (n.d.). Bayesian Benefits for the Pragmatic Researcher, 1–11."
   ]
  }
 ],
 "metadata": {
  "kernelspec": {
   "display_name": "Python 3",
   "language": "python",
   "name": "python3"
  },
  "language_info": {
   "codemirror_mode": {
    "name": "ipython",
    "version": 3
   },
   "file_extension": ".py",
   "mimetype": "text/x-python",
   "name": "python",
   "nbconvert_exporter": "python",
   "pygments_lexer": "ipython3",
   "version": "3.6.8"
  },
  "notify_time": "5",
  "varInspector": {
   "cols": {
    "lenName": 16,
    "lenType": 16,
    "lenVar": 40
   },
   "kernels_config": {
    "python": {
     "delete_cmd_postfix": "",
     "delete_cmd_prefix": "del ",
     "library": "var_list.py",
     "varRefreshCmd": "print(var_dic_list())"
    },
    "r": {
     "delete_cmd_postfix": ") ",
     "delete_cmd_prefix": "rm(",
     "library": "var_list.r",
     "varRefreshCmd": "cat(var_dic_list()) "
    }
   },
   "oldHeight": 122,
   "position": {
    "height": "269px",
    "left": "1019px",
    "right": "20px",
    "top": "126px",
    "width": "344px"
   },
   "types_to_exclude": [
    "module",
    "function",
    "builtin_function_or_method",
    "instance",
    "_Feature"
   ],
   "varInspector_section_display": "block",
   "window_display": true
  }
 },
 "nbformat": 4,
 "nbformat_minor": 2
}
