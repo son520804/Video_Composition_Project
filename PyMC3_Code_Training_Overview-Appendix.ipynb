{
 "cells": [
  {
   "cell_type": "code",
   "execution_count": 4,
   "metadata": {
    "scrolled": false
   },
   "outputs": [
    {
     "data": {
      "image/jpeg": "[encoded data removed]",
      "text/html": [
       "\n",
       "        <iframe\n",
       "            width=\"900\"\n",
       "            height=\"600\"\n",
       "            src=\"https://www.youtube.com/embed/fHagIHOTEvM?cc_load_policy=1&cc_lang_pref=eng&start=15&autoplay=1\"\n",
       "            frameborder=\"0\"\n",
       "            allowfullscreen\n",
       "        ></iframe>\n",
       "        "
      ],
      "text/plain": [
       "<IPython.lib.display.YouTubeVideo at 0x7f6d89add128>"
      ]
     },
     "execution_count": 4,
     "metadata": {},
     "output_type": "execute_result"
    }
   ],
   "source": [
    "from IPython.display import YouTubeVideo\n",
    "\n",
    "id = 'fHagIHOTEvM'\n",
    "YouTubeVideo(id = id, width = 900,height = 600, \n",
    "             cc_load_policy = 1, cc_lang_pref = 'eng',\n",
    "            start = 15, autoplay =1)"
   ]
  },
  {
   "cell_type": "markdown",
   "metadata": {},
   "source": [
    "# Introduction to PyMC3 - Overview\n",
    "Duration: (2:48)\n",
    "\n",
    "Welcome to the Bayesian Statistics in Python training. In this lecture, you will learn how to quantify uncertainty using the Bayesian way. \n",
    "\n",
    "For example, if you want to know the probability that a certain\n",
    "American football player will make a field goal, using the Bayesian method, you will leverage your prior knowledge that you have about the player to form an initial understanding and observe the player performance to be able to update your belief. \n",
    "\n",
    "We can combine both sources of knowledge to improve our estimate that lead to a better understanding that the player will make the field goal."
   ]
  },
  {
   "cell_type": "code",
   "execution_count": 2,
   "metadata": {},
   "outputs": [],
   "source": [
    "# First, let's import the pandas and numpy libraries\n",
    "import pandas as pd\n",
    "import numpy as np\n",
    "\n",
    "# In addition, I want to show some plots, so we'll import matplotlib as well\n",
    "import matplotlib.pyplot as plt\n",
    "\n",
    "# Finally, we'll bring in the scipy stats libraries\n",
    "from scipy import stats"
   ]
  },
  {
   "cell_type": "code",
   "execution_count": 3,
   "metadata": {},
   "outputs": [
    {
     "data": {
      "text/html": [
       "<div>\n",
       "<style scoped>\n",
       "    .dataframe tbody tr th:only-of-type {\n",
       "        vertical-align: middle;\n",
       "    }\n",
       "\n",
       "    .dataframe tbody tr th {\n",
       "        vertical-align: top;\n",
       "    }\n",
       "\n",
       "    .dataframe thead th {\n",
       "        text-align: right;\n",
       "    }\n",
       "</style>\n",
       "<table border=\"1\" class=\"dataframe\">\n",
       "  <thead>\n",
       "    <tr style=\"text-align: right;\">\n",
       "      <th></th>\n",
       "      <th>Player</th>\n",
       "      <th>Team</th>\n",
       "      <th>PAT</th>\n",
       "      <th>FG</th>\n",
       "      <th>0-19</th>\n",
       "      <th>20-29</th>\n",
       "      <th>30-39</th>\n",
       "      <th>40-49</th>\n",
       "      <th>50+</th>\n",
       "      <th>Lg</th>\n",
       "      <th>Pts</th>\n",
       "    </tr>\n",
       "  </thead>\n",
       "  <tbody>\n",
       "    <tr>\n",
       "      <th>0</th>\n",
       "      <td>Harrison Butker</td>\n",
       "      <td>KC</td>\n",
       "      <td>0.938</td>\n",
       "      <td>0.895</td>\n",
       "      <td>0/0</td>\n",
       "      <td>9/9</td>\n",
       "      <td>9/10</td>\n",
       "      <td>13/13</td>\n",
       "      <td>3/6</td>\n",
       "      <td>56</td>\n",
       "      <td>147</td>\n",
       "    </tr>\n",
       "    <tr>\n",
       "      <th>1</th>\n",
       "      <td>Wil Lutz</td>\n",
       "      <td>NO</td>\n",
       "      <td>0.980</td>\n",
       "      <td>0.889</td>\n",
       "      <td>1/1</td>\n",
       "      <td>9/9</td>\n",
       "      <td>6/6</td>\n",
       "      <td>13/15</td>\n",
       "      <td>3/5</td>\n",
       "      <td>58</td>\n",
       "      <td>144</td>\n",
       "    </tr>\n",
       "    <tr>\n",
       "      <th>2</th>\n",
       "      <td>Justin Tucker</td>\n",
       "      <td>BAL</td>\n",
       "      <td>0.966</td>\n",
       "      <td>0.966</td>\n",
       "      <td>0/0</td>\n",
       "      <td>8/8</td>\n",
       "      <td>9/9</td>\n",
       "      <td>10/11</td>\n",
       "      <td>1/1</td>\n",
       "      <td>51</td>\n",
       "      <td>141</td>\n",
       "    </tr>\n",
       "    <tr>\n",
       "      <th>3</th>\n",
       "      <td>Zane Gonzalez</td>\n",
       "      <td>ARI</td>\n",
       "      <td>0.971</td>\n",
       "      <td>0.886</td>\n",
       "      <td>0/0</td>\n",
       "      <td>12/12</td>\n",
       "      <td>12/13</td>\n",
       "      <td>5/8</td>\n",
       "      <td>2/2</td>\n",
       "      <td>54</td>\n",
       "      <td>127</td>\n",
       "    </tr>\n",
       "    <tr>\n",
       "      <th>4</th>\n",
       "      <td>Matt Gay</td>\n",
       "      <td>TB</td>\n",
       "      <td>0.896</td>\n",
       "      <td>0.771</td>\n",
       "      <td>0/0</td>\n",
       "      <td>6/6</td>\n",
       "      <td>5/7</td>\n",
       "      <td>11/14</td>\n",
       "      <td>5/8</td>\n",
       "      <td>58</td>\n",
       "      <td>124</td>\n",
       "    </tr>\n",
       "  </tbody>\n",
       "</table>\n",
       "</div>"
      ],
      "text/plain": [
       "            Player Team    PAT     FG 0-19  20-29  30-39  40-49  50+  Lg  Pts\n",
       "0  Harrison Butker   KC  0.938  0.895  0/0    9/9   9/10  13/13  3/6  56  147\n",
       "1         Wil Lutz   NO  0.980  0.889  1/1    9/9    6/6  13/15  3/5  58  144\n",
       "2    Justin Tucker  BAL  0.966  0.966  0/0    8/8    9/9  10/11  1/1  51  141\n",
       "3    Zane Gonzalez  ARI  0.971  0.886  0/0  12/12  12/13    5/8  2/2  54  127\n",
       "4         Matt Gay   TB  0.896  0.771  0/0    6/6    5/7  11/14  5/8  58  124"
      ]
     },
     "execution_count": 3,
     "metadata": {},
     "output_type": "execute_result"
    }
   ],
   "source": [
    "# The data for this lecture comes from the footballdb website, let's read it in to a pandas DataFrame\n",
    "data = pd.read_csv('nfl.csv')\n",
    "# And let's look at the first few lines\n",
    "data.head()"
   ]
  },
  {
   "cell_type": "markdown",
   "metadata": {},
   "source": [
    "So, we can see that the data includes the player name, some team identification, their probability of\n",
    "attaining a field goal under the column FG, and information about how successful the kicker was in achieving\n",
    "a field goal each time they tried at given distances. For instance, we can see in the second row that Wil Lutz was the only kicker to attempt a field goal within 20 yards, and he was successful, while at 50 or more yards out everyone has attempted but only a couple have perfectly achieved a field goal."
   ]
  },
  {
   "cell_type": "markdown",
   "metadata": {},
   "source": [
    "Let's look at a histogram of the field goal probability. A histogram is just a bar chart that is commonly used to describe the frequency distribution of the data. "
   ]
  },
  {
   "cell_type": "code",
   "execution_count": 4,
   "metadata": {},
   "outputs": [
    {
     "data": {
      "text/plain": [
       "Text(0.5, 1.0, 'Field Goal Probability')"
      ]
     },
     "execution_count": 4,
     "metadata": {},
     "output_type": "execute_result"
    },
    {
     "data": {
      "text/plain": [
       "<Figure size 576x576 with 0 Axes>"
      ]
     },
     "metadata": {},
     "output_type": "display_data"
    },
    {
     "data": {
      "image/png": "[encoded data removed]",
      "text/plain": [
       "<Figure size 432x288 with 1 Axes>"
      ]
     },
     "metadata": {
      "needs_background": "light"
     },
     "output_type": "display_data"
    }
   ],
   "source": [
    "# First let's create a new figure using the figure function of matplotlib\n",
    "fig = plt.figure(figsize = (8,8))\n",
    "# You'll notice I decided to set the figure size at 8 inches wide by 8 inches tall using the figsize parameter\n",
    "\n",
    "# Now we'll just plot the histogram using the convenience function of pandas, \n",
    "# indicating we want column FG to be the one plotted\n",
    "data.hist(column = \"FG\")\n",
    "\n",
    "# Finally, let's set the label for the x and y axes\n",
    "plt.xlabel(\"Field Goal %\")\n",
    "plt.ylabel(\"Frequency\")\n",
    "\n",
    "# And set the title and show the plot\n",
    "plt.title(\"Field Goal Probability\")\n",
    "#plt.show()"
   ]
  },
  {
   "cell_type": "markdown",
   "metadata": {},
   "source": [
    "Here you can see most American football player made roughly 80% of the field goal, only few of them making less than 70% or more than 90%.\n",
    "\n",
    "So in this video, we have seen how to import a data set, and explain the data using visuals such as histogram. \n",
    "\n",
    "The Bayesian statistics in Python training consists of two parts. In the next video we'll introduce the Bayesian concepts associated with creating Bayesian models, and in the second part we'll learn PyMC3, an elegant Python package in implementing Bayesian models. Bye for now!"
   ]
  },
  {
   "cell_type": "code",
   "execution_count": null,
   "metadata": {},
   "outputs": [],
   "source": []
  },
  {
   "cell_type": "code",
   "execution_count": 22,
   "metadata": {},
   "outputs": [
    {
     "data": {
      "image/png": "[encoded data removed]",
      "text/plain": [
       "<Figure size 1152x360 with 4 Axes>"
      ]
     },
     "metadata": {
      "needs_background": "light"
     },
     "output_type": "display_data"
    }
   ],
   "source": [
    "# Let's import re module\n",
    "import re\n",
    "\n",
    "# We use regex pattern to capture the numerator and denominator stored in fraction strings\n",
    "def fraction(row):\n",
    "    fraction_pattern = re.compile(r\"^(?P<num>[0-9]+)/(?P<den>[0-9]+)$\")\n",
    "    # Then divide the numerator by the denominator extracted from the fraction string\n",
    "    result = float(fraction_pattern.search(row).group(1)) / float(fraction_pattern.search(row).group(2))\n",
    "    return result\n",
    "\n",
    "\n",
    "# We can use matplotlib.pyplot.subplot function to create 4 histograms together \n",
    "# We turn on the share x-axis feature so each of the plots adapts to its own x range.\n",
    "fig, axes = plt.subplots(1, 4, sharex = True, figsize = (16,5))\n",
    "\n",
    "# We apply the fraction function to compute the probability for each player to make field \n",
    "# goals based on different distances\n",
    "axes[0].hist(data['20-29'].apply(fraction))\n",
    "axes[0].set_title(\"Field goals from 20-29 yards\")\n",
    "axes[1].hist(data['30-39'].apply(fraction))\n",
    "axes[1].set_title(\"Field goals from 30-39 yards\")\n",
    "axes[2].hist(data['40-49'].apply(fraction))\n",
    "axes[2].set_title(\"Field goals from 40-49 yards\")\n",
    "axes[3].hist(data['50+'].apply(fraction))\n",
    "axes[3].set_title(\"Field goals from over 50 yards\")\n",
    "plt.show()"
   ]
  },
  {
   "cell_type": "code",
   "execution_count": null,
   "metadata": {},
   "outputs": [],
   "source": []
  },
  {
   "cell_type": "code",
   "execution_count": null,
   "metadata": {},
   "outputs": [],
   "source": []
  }
 ],
 "metadata": {
  "kernelspec": {
   "display_name": "Python 3",
   "language": "python",
   "name": "python3"
  },
  "language_info": {
   "codemirror_mode": {
    "name": "ipython",
    "version": 3
   },
   "file_extension": ".py",
   "mimetype": "text/x-python",
   "name": "python",
   "nbconvert_exporter": "python",
   "pygments_lexer": "ipython3",
   "version": "3.7.3"
  }
 },
 "nbformat": 4,
 "nbformat_minor": 4
}
