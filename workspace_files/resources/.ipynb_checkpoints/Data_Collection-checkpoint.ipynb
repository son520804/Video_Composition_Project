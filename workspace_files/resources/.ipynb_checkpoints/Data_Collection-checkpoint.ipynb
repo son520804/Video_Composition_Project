{
 "cells": [
  {
   "cell_type": "code",
   "execution_count": 1,
   "metadata": {},
   "outputs": [],
   "source": [
    "# Let's first import numpy, pandas, matplotlib, scipy.stats \n",
    "import numpy as np\n",
    "import pandas as pd\n",
    "import matplotlib.pyplot as plt"
   ]
  },
  {
   "cell_type": "code",
   "execution_count": 2,
   "metadata": {
    "scrolled": false
   },
   "outputs": [],
   "source": [
    "# Create the pandas DataFrame \n",
    "#data = np.linspace(1,500,500)\n",
    "df = pd.DataFrame(columns = ['Type'])\n",
    "#df.StudentId.astype(int)"
   ]
  },
  {
   "cell_type": "code",
   "execution_count": 3,
   "metadata": {},
   "outputs": [],
   "source": [
    "for row in range(500):\n",
    "    df = df.append({'Type': 'Student'}, ignore_index = True)"
   ]
  },
  {
   "cell_type": "code",
   "execution_count": 71,
   "metadata": {},
   "outputs": [
    {
     "data": {
      "text/plain": [
       "pandas.core.frame.DataFrame"
      ]
     },
     "execution_count": 71,
     "metadata": {},
     "output_type": "execute_result"
    }
   ],
   "source": [
    "type(df)"
   ]
  },
  {
   "cell_type": "code",
   "execution_count": 4,
   "metadata": {},
   "outputs": [],
   "source": [
    "from scipy.stats import truncnorm"
   ]
  },
  {
   "cell_type": "code",
   "execution_count": 5,
   "metadata": {},
   "outputs": [],
   "source": [
    "df['Transfer'] = np.random.normal(0.4, 0.1, 500)\n",
    "df['Retention'] = np.random.normal(0.55, 0.1, 500)\n",
    "df['Survey_Q1'] = np.random.normal(0.8, 0.05, 500)\n",
    "df['Survey_Q2'] = np.random.normal(0.8, 0.05, 500)\n",
    "df['Survey_Q3'] = np.random.normal(0.8, 0.05, 500)\n",
    "df['Survey_Q4'] = np.random.normal(0.8, 0.05, 500)\n",
    "df['Survey_Q5'] = np.random.normal(0.8, 0.05, 500)\n",
    "df['Survey_Q6'] = np.random.normal(0.8, 0.05, 500)\n",
    "df['Survey_Q7'] = np.random.normal(0.8, 0.05, 500)\n",
    "df['Survey_Q8'] = np.random.normal(0.8, 0.05, 500)\n",
    "df['Survey_Q9'] = np.random.normal(0.8, 0.05, 500)\n",
    "df['Survey_Q10'] = np.random.normal(0.8, 0.05, 500)\n",
    "df['Survey_Q11'] = np.random.normal(0.8, 0.05, 500)\n",
    "df['Survey_Q12'] = np.random.normal(0.8, 0.05, 500)\n",
    "df['Survey_Q13'] = np.random.normal(0.8, 0.05, 500)\n",
    "df['Survey_Q14'] = np.random.normal(0.8, 0.05, 500)\n",
    "df['Survey_Q15'] = np.random.normal(0.8, 0.05, 500)\n",
    "df['Survey_Q16'] = np.random.normal(0.8, 0.05, 500)\n",
    "df['Group'] = None"
   ]
  },
  {
   "cell_type": "code",
   "execution_count": 6,
   "metadata": {},
   "outputs": [
    {
     "name": "stderr",
     "output_type": "stream",
     "text": [
      "/opt/conda/lib/python3.7/site-packages/ipykernel_launcher.py:2: SettingWithCopyWarning: \n",
      "A value is trying to be set on a copy of a slice from a DataFrame\n",
      "\n",
      "See the caveats in the documentation: http://pandas.pydata.org/pandas-docs/stable/user_guide/indexing.html#returning-a-view-versus-a-copy\n",
      "  \n",
      "/opt/conda/lib/python3.7/site-packages/ipykernel_launcher.py:3: SettingWithCopyWarning: \n",
      "A value is trying to be set on a copy of a slice from a DataFrame\n",
      "\n",
      "See the caveats in the documentation: http://pandas.pydata.org/pandas-docs/stable/user_guide/indexing.html#returning-a-view-versus-a-copy\n",
      "  This is separate from the ipykernel package so we can avoid doing imports until\n",
      "/opt/conda/lib/python3.7/site-packages/ipykernel_launcher.py:4: SettingWithCopyWarning: \n",
      "A value is trying to be set on a copy of a slice from a DataFrame\n",
      "\n",
      "See the caveats in the documentation: http://pandas.pydata.org/pandas-docs/stable/user_guide/indexing.html#returning-a-view-versus-a-copy\n",
      "  after removing the cwd from sys.path.\n",
      "/opt/conda/lib/python3.7/site-packages/ipykernel_launcher.py:5: SettingWithCopyWarning: \n",
      "A value is trying to be set on a copy of a slice from a DataFrame\n",
      "\n",
      "See the caveats in the documentation: http://pandas.pydata.org/pandas-docs/stable/user_guide/indexing.html#returning-a-view-versus-a-copy\n",
      "  \"\"\"\n",
      "/opt/conda/lib/python3.7/site-packages/ipykernel_launcher.py:6: SettingWithCopyWarning: \n",
      "A value is trying to be set on a copy of a slice from a DataFrame\n",
      "\n",
      "See the caveats in the documentation: http://pandas.pydata.org/pandas-docs/stable/user_guide/indexing.html#returning-a-view-versus-a-copy\n",
      "  \n",
      "/opt/conda/lib/python3.7/site-packages/ipykernel_launcher.py:7: SettingWithCopyWarning: \n",
      "A value is trying to be set on a copy of a slice from a DataFrame\n",
      "\n",
      "See the caveats in the documentation: http://pandas.pydata.org/pandas-docs/stable/user_guide/indexing.html#returning-a-view-versus-a-copy\n",
      "  import sys\n",
      "/opt/conda/lib/python3.7/site-packages/ipykernel_launcher.py:8: SettingWithCopyWarning: \n",
      "A value is trying to be set on a copy of a slice from a DataFrame\n",
      "\n",
      "See the caveats in the documentation: http://pandas.pydata.org/pandas-docs/stable/user_guide/indexing.html#returning-a-view-versus-a-copy\n",
      "  \n",
      "/opt/conda/lib/python3.7/site-packages/ipykernel_launcher.py:9: SettingWithCopyWarning: \n",
      "A value is trying to be set on a copy of a slice from a DataFrame\n",
      "\n",
      "See the caveats in the documentation: http://pandas.pydata.org/pandas-docs/stable/user_guide/indexing.html#returning-a-view-versus-a-copy\n",
      "  if __name__ == '__main__':\n",
      "/opt/conda/lib/python3.7/site-packages/ipykernel_launcher.py:10: SettingWithCopyWarning: \n",
      "A value is trying to be set on a copy of a slice from a DataFrame\n",
      "\n",
      "See the caveats in the documentation: http://pandas.pydata.org/pandas-docs/stable/user_guide/indexing.html#returning-a-view-versus-a-copy\n",
      "  # Remove the CWD from sys.path while we load stuff.\n"
     ]
    }
   ],
   "source": [
    "# Randomized video condition groups\n",
    "df['Group'][df.index < 60] = 1\n",
    "df['Group'][(df.index >= 60) & (df.index < 115)] = 2\n",
    "df['Group'][(df.index >= 115) & (df.index < 170)] = 3\n",
    "df['Group'][(df.index >= 170) & (df.index < 225)] = 4\n",
    "df['Group'][(df.index >= 225) & (df.index < 280)] = 5\n",
    "df['Group'][(df.index >= 280) & (df.index < 335)] = 6\n",
    "df['Group'][(df.index >= 335) & (df.index < 390)] = 7\n",
    "df['Group'][(df.index >= 390) & (df.index < 445)] = 8\n",
    "df['Group'][(df.index >= 445) & (df.index < 500)] = 9"
   ]
  },
  {
   "cell_type": "code",
   "execution_count": 7,
   "metadata": {},
   "outputs": [
    {
     "data": {
      "text/plain": [
       "Index(['Type', 'Transfer', 'Retention', 'Survey_Q1', 'Survey_Q2', 'Survey_Q3',\n",
       "       'Survey_Q4', 'Survey_Q5', 'Survey_Q6', 'Survey_Q7', 'Survey_Q8',\n",
       "       'Survey_Q9', 'Survey_Q10', 'Survey_Q11', 'Survey_Q12', 'Survey_Q13',\n",
       "       'Survey_Q14', 'Survey_Q15', 'Survey_Q16', 'Group'],\n",
       "      dtype='object')"
      ]
     },
     "execution_count": 7,
     "metadata": {},
     "output_type": "execute_result"
    }
   ],
   "source": [
    "df.columns"
   ]
  },
  {
   "cell_type": "code",
   "execution_count": 8,
   "metadata": {},
   "outputs": [],
   "source": [
    "# Define Engagement Indicator\n",
    "row_engagement = ['Survey_Q1', 'Survey_Q14', 'Survey_Q15']\n",
    "df['Engagement'] = df.apply(lambda x: np.mean(x[row_engagement]), axis = 1)\n",
    "\n",
    "# Define Video Speed Indicator\n",
    "row_video_speed = ['Survey_Q2', 'Survey_Q3']\n",
    "df['Video_Speed'] = df.apply(lambda x: np.mean(x[row_video_speed]), axis = 1)\n",
    "\n",
    "# Define Information Delivery Indicator\n",
    "row_info_delivery = ['Survey_Q4', 'Survey_Q5', 'Survey_Q6', 'Survey_Q7', 'Survey_Q12']\n",
    "df['Info_Delivery'] = df.apply(lambda x: np.mean(x[row_info_delivery]), axis = 1)\n",
    "\n",
    "# Define Level of Interest Indicator\n",
    "row_level_of_interest = ['Survey_Q8', 'Survey_Q16']\n",
    "df['Level_Of_Interest'] = df.apply(lambda x: np.mean(x[row_level_of_interest]), axis = 1)\n",
    "\n",
    "# Define Video Composition Indicator\n",
    "row_video_composition = ['Survey_Q9', 'Survey_Q10', 'Survey_Q11', 'Survey_Q13']\n",
    "df['Video_Composition'] = df.apply(lambda x: np.mean(x[row_video_composition]), axis = 1)"
   ]
  },
  {
   "cell_type": "code",
   "execution_count": 11,
   "metadata": {},
   "outputs": [],
   "source": [
    "df.to_csv('Video_Instruction_Data_Collection.csv')"
   ]
  },
  {
   "cell_type": "code",
   "execution_count": 2,
   "metadata": {},
   "outputs": [
    {
     "data": {
      "text/plain": [
       "0.25    0.782056\n",
       "0.50    0.800857\n",
       "0.75    0.821776\n",
       "Name: Engagement, dtype: float64"
      ]
     },
     "execution_count": 2,
     "metadata": {},
     "output_type": "execute_result"
    }
   ],
   "source": [
    "df = pd.read_csv('Video_Instruction_Data_Collection.csv')\n",
    "\n",
    "df['Engagement'].quantile([0.25, 0.5, 0.75])"
   ]
  },
  {
   "cell_type": "code",
   "execution_count": 5,
   "metadata": {},
   "outputs": [
    {
     "data": {
      "text/plain": [
       "False"
      ]
     },
     "execution_count": 5,
     "metadata": {},
     "output_type": "execute_result"
    }
   ],
   "source": [
    "(df._get_numeric_data()< 0).any().any()"
   ]
  },
  {
   "cell_type": "code",
   "execution_count": 7,
   "metadata": {},
   "outputs": [
    {
     "data": {
      "text/plain": [
       "False"
      ]
     },
     "execution_count": 7,
     "metadata": {},
     "output_type": "execute_result"
    }
   ],
   "source": [
    "df.empty"
   ]
  },
  {
   "cell_type": "code",
   "execution_count": 32,
   "metadata": {},
   "outputs": [
    {
     "data": {
      "text/plain": [
       "Transfer             499\n",
       "Retention            469\n",
       "Survey_Q1              8\n",
       "Survey_Q2             13\n",
       "Survey_Q3             16\n",
       "Survey_Q4             12\n",
       "Survey_Q5             15\n",
       "Survey_Q6             12\n",
       "Survey_Q7             16\n",
       "Survey_Q8              9\n",
       "Survey_Q9              8\n",
       "Survey_Q10             9\n",
       "Survey_Q11            14\n",
       "Survey_Q12            13\n",
       "Survey_Q13             8\n",
       "Survey_Q14            12\n",
       "Survey_Q15            13\n",
       "Survey_Q16             9\n",
       "Engagement             1\n",
       "Video_Speed            1\n",
       "Info_Delivery          0\n",
       "Level_Of_Interest      0\n",
       "Video_Composition      0\n",
       "dtype: int64"
      ]
     },
     "execution_count": 32,
     "metadata": {},
     "output_type": "execute_result"
    }
   ],
   "source": [
    "# Sanity Check: Negative numbers\n",
    "\n",
    "df._get_numeric_data()[df._get_numeric_data() < 0.7].count()"
   ]
  },
  {
   "cell_type": "code",
   "execution_count": 33,
   "metadata": {
    "scrolled": true
   },
   "outputs": [
    {
     "data": {
      "image/png": "[encoded data removed]",
      "text/plain": [
       "<Figure size 1152x360 with 2 Axes>"
      ]
     },
     "metadata": {
      "needs_background": "light"
     },
     "output_type": "display_data"
    }
   ],
   "source": [
    "# We can use matplotlib.pyplot.subplot function to create 4 histograms together \n",
    "# We turn off the share x-axis feature so each of the plots adapts to its own x range.\n",
    "fig, axes = plt.subplots(1, 2, sharex = False, figsize = (16,5))\n",
    "\n",
    "# For each of the four columns (i.e. TV commercial advertisement, radio advertisement, \n",
    "# newspaper advertisement and TV unit sales), we plot the column and set the titles accordingly.\n",
    "axes[0].hist(df.Transfer)\n",
    "axes[0].set_title(\"Knowledge Transfer\")\n",
    "axes[1].hist(df.Retention)\n",
    "axes[1].set_title(\"Information Retention\")\n",
    "plt.show()"
   ]
  },
  {
   "cell_type": "code",
   "execution_count": 34,
   "metadata": {},
   "outputs": [
    {
     "data": {
      "image/png": "[encoded data removed]",
      "text/plain": [
       "<Figure size 1296x288 with 5 Axes>"
      ]
     },
     "metadata": {
      "needs_background": "light"
     },
     "output_type": "display_data"
    }
   ],
   "source": [
    "# We can use matplotlib.pyplot.subplot function to create 5 histograms together \n",
    "# We turn off the share x-axis feature so each of the plots adapts to its own x range.\n",
    "fig, axes = plt.subplots(1, 5, sharex = False, figsize = (18,4))\n",
    "\n",
    "# For each of the self-reported measures (i.e. Engagement, video speed, information delivery, \n",
    "# level of interest and video composition), we plot the column and set the titles accordingly.\n",
    "axes[0].hist(df.Engagement)\n",
    "axes[0].set_title(\"Engagement\")\n",
    "axes[1].hist(df.Video_Speed)\n",
    "axes[1].set_title(\"Video Speed\")\n",
    "axes[2].hist(df.Info_Delivery)\n",
    "axes[2].set_title(\"Information Delivery\")\n",
    "axes[3].hist(df.Level_Of_Interest)\n",
    "axes[3].set_title(\"Level Of Interest\")\n",
    "axes[4].hist(df.Video_Composition)\n",
    "axes[4].set_title(\"Video Composition\")\n",
    "plt.show()"
   ]
  },
  {
   "cell_type": "code",
   "execution_count": 9,
   "metadata": {},
   "outputs": [
    {
     "name": "stderr",
     "output_type": "stream",
     "text": [
      "WARNING (theano.configdefaults): install mkl with `conda install mkl-service`: No module named 'mkl'\n"
     ]
    }
   ],
   "source": [
    "# First, let's import the pymc3 library as pm\n",
    "import pymc3 as pm"
   ]
  },
  {
   "cell_type": "code",
   "execution_count": null,
   "metadata": {},
   "outputs": [],
   "source": [
    "# We start with creating an instance model with an empty pm.Model function\n",
    "model = pm.Model()\n",
    "\n",
    "# Now let us specify the model. The with model statement wraps up every prior and likelihood\n",
    "with model:\n",
    "    \n",
    "    # Our model assumes that each observation y is sampled from a normal distribution with a mean mu \n",
    "    # with a normally distributed prior and standard deviation sigma with a half-normal prior.\n",
    "    \n",
    "    # Let us construct priors one by one.\n",
    "    # We assign normal prior to the intercept with mean 4 and standard deviation 2,\n",
    "    # then assign normal prior to beta1 with mean 0.05 and standard deviation 0.05.\n",
    "    # For standard deviation sigma, we are going to use pm.Halfnormal to assign half normal prior.\n",
    "    alpha = pm.Normal('alpha', mu=4, sigma=2)\n",
    "    beta = pm.Normal('beta', mu=0.05, sigma=0.05)\n",
    "    sigma = pm.HalfNormal('sigma', sigma=1)\n",
    "    \n",
    "    # The model also requires a specification of the expected value of outcome mu\n",
    "    # Here I am going to define mu equals to the intercept alpha plus beta1 times tv_ads which is the money\n",
    "    # spent on TV advertisement\n",
    "    mu = alpha + beta * tv_ads\n",
    "    \n",
    "    # To complete the model, the likelihood function for the data must be defined. \n",
    "    # The observed argument explicitly flags the random variable y_obs as one that is not a latent variable, \n",
    "    # but instead is given by the data.\n",
    "    # We take tv_sales as the input data and assign a normal prior corresponding to the model specification.\n",
    "    # So the expected value mu is used to specify the mean value for the prior\n",
    "    y_obs = pm.Normal('y_obs', mu = mu, observed = tv_sales)"
   ]
  },
  {
   "cell_type": "markdown",
   "metadata": {},
   "source": [
    "## Bayes Factor\n",
    "\n",
    "Bayes factor = Posterior odds / Prior odds\n",
    "\n",
    "The Bayes factor does not depend on the value of the prior model weights, but the estimate will be most precise when the posterior odds are the same."
   ]
  },
  {
   "cell_type": "code",
   "execution_count": 10,
   "metadata": {},
   "outputs": [
    {
     "data": {
      "text/plain": [
       "array([<matplotlib.axes._subplots.AxesSubplot object at 0x7f579a71c630>,\n",
       "       <matplotlib.axes._subplots.AxesSubplot object at 0x7f5799412128>],\n",
       "      dtype=object)"
      ]
     },
     "execution_count": 10,
     "metadata": {},
     "output_type": "execute_result"
    },
    {
     "data": {
      "image/png": "[encoded data removed]",
      "text/plain": [
       "<Figure size 864x288 with 2 Axes>"
      ]
     },
     "metadata": {
      "needs_background": "light"
     },
     "output_type": "display_data"
    }
   ],
   "source": [
    "drug = (101,100,102,104,102,97,105,105,98,101,100,123,105,103,100,95,102,106,\n",
    "        109,102,82,102,100,102,102,101,102,102,103,103,97,97,103,101,97,104,\n",
    "        96,103,124,101,101,100,101,101,104,100,101)\n",
    "placebo = (99,101,100,101,102,100,97,101,104,101,102,102,100,105,88,101,100,\n",
    "           104,100,100,100,101,102,103,97,101,101,100,101,99,101,100,100,\n",
    "           101,100,99,101,100,102,99,100,99)\n",
    "\n",
    "y1 = np.array(drug)\n",
    "y2 = np.array(placebo)\n",
    "y = pd.DataFrame(dict(value=np.r_[y1, y2], group=np.r_[['drug']*len(drug), ['placebo']*len(placebo)]))\n",
    "\n",
    "y.hist('value', by='group', figsize=(12, 4))"
   ]
  },
  {
   "cell_type": "code",
   "execution_count": 11,
   "metadata": {},
   "outputs": [],
   "source": [
    "mu_m = y.value.mean()\n",
    "mu_s = y.value.std() * 2\n",
    "\n",
    "with pm.Model() as model:\n",
    "    group1_mean = pm.Normal('group1_mean', mu=mu_m, sd=mu_s)\n",
    "    group2_mean = pm.Normal('group2_mean', mu=mu_m, sd=mu_s)"
   ]
  },
  {
   "cell_type": "code",
   "execution_count": 16,
   "metadata": {},
   "outputs": [
    {
     "ename": "ValueError",
     "evalue": "Variable name group1_std_interval__ already exists.",
     "output_type": "error",
     "traceback": [
      "\u001b[0;31m---------------------------------------------------------------------------\u001b[0m",
      "\u001b[0;31mValueError\u001b[0m                                Traceback (most recent call last)",
      "\u001b[0;32m<ipython-input-16-21d5efda7078>\u001b[0m in \u001b[0;36m<module>\u001b[0;34m\u001b[0m\n\u001b[1;32m      3\u001b[0m \u001b[0;34m\u001b[0m\u001b[0m\n\u001b[1;32m      4\u001b[0m \u001b[0;32mwith\u001b[0m \u001b[0mmodel\u001b[0m\u001b[0;34m:\u001b[0m\u001b[0;34m\u001b[0m\u001b[0;34m\u001b[0m\u001b[0m\n\u001b[0;32m----> 5\u001b[0;31m     \u001b[0mgroup1_std\u001b[0m \u001b[0;34m=\u001b[0m \u001b[0mpm\u001b[0m\u001b[0;34m.\u001b[0m\u001b[0mUniform\u001b[0m\u001b[0;34m(\u001b[0m\u001b[0;34m'group1_std'\u001b[0m\u001b[0;34m,\u001b[0m \u001b[0mlower\u001b[0m\u001b[0;34m=\u001b[0m\u001b[0msigma_low\u001b[0m\u001b[0;34m,\u001b[0m \u001b[0mupper\u001b[0m\u001b[0;34m=\u001b[0m\u001b[0msigma_high\u001b[0m\u001b[0;34m)\u001b[0m\u001b[0;34m\u001b[0m\u001b[0;34m\u001b[0m\u001b[0m\n\u001b[0m\u001b[1;32m      6\u001b[0m     \u001b[0mgroup2_std\u001b[0m \u001b[0;34m=\u001b[0m \u001b[0mpm\u001b[0m\u001b[0;34m.\u001b[0m\u001b[0mUniform\u001b[0m\u001b[0;34m(\u001b[0m\u001b[0;34m'group2_std'\u001b[0m\u001b[0;34m,\u001b[0m \u001b[0mlower\u001b[0m\u001b[0;34m=\u001b[0m\u001b[0msigma_low\u001b[0m\u001b[0;34m,\u001b[0m \u001b[0mupper\u001b[0m\u001b[0;34m=\u001b[0m\u001b[0msigma_high\u001b[0m\u001b[0;34m)\u001b[0m\u001b[0;34m\u001b[0m\u001b[0;34m\u001b[0m\u001b[0m\n\u001b[1;32m      7\u001b[0m     \u001b[0mv\u001b[0m \u001b[0;34m=\u001b[0m \u001b[0mpm\u001b[0m\u001b[0;34m.\u001b[0m\u001b[0mExponential\u001b[0m\u001b[0;34m(\u001b[0m\u001b[0;34m'v_minus_one'\u001b[0m\u001b[0;34m,\u001b[0m \u001b[0;36m1\u001b[0m\u001b[0;34m/\u001b[0m\u001b[0;36m29\u001b[0m\u001b[0;34m)\u001b[0m \u001b[0;34m+\u001b[0m \u001b[0;36m1\u001b[0m\u001b[0;34m\u001b[0m\u001b[0;34m\u001b[0m\u001b[0m\n",
      "\u001b[0;32m/opt/conda/lib/python3.7/site-packages/pymc3/distributions/distribution.py\u001b[0m in \u001b[0;36m__new__\u001b[0;34m(cls, name, *args, **kwargs)\u001b[0m\n\u001b[1;32m     45\u001b[0m             \u001b[0mtotal_size\u001b[0m \u001b[0;34m=\u001b[0m \u001b[0mkwargs\u001b[0m\u001b[0;34m.\u001b[0m\u001b[0mpop\u001b[0m\u001b[0;34m(\u001b[0m\u001b[0;34m'total_size'\u001b[0m\u001b[0;34m,\u001b[0m \u001b[0;32mNone\u001b[0m\u001b[0;34m)\u001b[0m\u001b[0;34m\u001b[0m\u001b[0;34m\u001b[0m\u001b[0m\n\u001b[1;32m     46\u001b[0m             \u001b[0mdist\u001b[0m \u001b[0;34m=\u001b[0m \u001b[0mcls\u001b[0m\u001b[0;34m.\u001b[0m\u001b[0mdist\u001b[0m\u001b[0;34m(\u001b[0m\u001b[0;34m*\u001b[0m\u001b[0margs\u001b[0m\u001b[0;34m,\u001b[0m \u001b[0;34m**\u001b[0m\u001b[0mkwargs\u001b[0m\u001b[0;34m)\u001b[0m\u001b[0;34m\u001b[0m\u001b[0;34m\u001b[0m\u001b[0m\n\u001b[0;32m---> 47\u001b[0;31m             \u001b[0;32mreturn\u001b[0m \u001b[0mmodel\u001b[0m\u001b[0;34m.\u001b[0m\u001b[0mVar\u001b[0m\u001b[0;34m(\u001b[0m\u001b[0mname\u001b[0m\u001b[0;34m,\u001b[0m \u001b[0mdist\u001b[0m\u001b[0;34m,\u001b[0m \u001b[0mdata\u001b[0m\u001b[0;34m,\u001b[0m \u001b[0mtotal_size\u001b[0m\u001b[0;34m)\u001b[0m\u001b[0;34m\u001b[0m\u001b[0;34m\u001b[0m\u001b[0m\n\u001b[0m\u001b[1;32m     48\u001b[0m         \u001b[0;32melse\u001b[0m\u001b[0;34m:\u001b[0m\u001b[0;34m\u001b[0m\u001b[0;34m\u001b[0m\u001b[0m\n\u001b[1;32m     49\u001b[0m             \u001b[0;32mraise\u001b[0m \u001b[0mTypeError\u001b[0m\u001b[0;34m(\u001b[0m\u001b[0;34m\"Name needs to be a string but got: {}\"\u001b[0m\u001b[0;34m.\u001b[0m\u001b[0mformat\u001b[0m\u001b[0;34m(\u001b[0m\u001b[0mname\u001b[0m\u001b[0;34m)\u001b[0m\u001b[0;34m)\u001b[0m\u001b[0;34m\u001b[0m\u001b[0;34m\u001b[0m\u001b[0m\n",
      "\u001b[0;32m/opt/conda/lib/python3.7/site-packages/pymc3/model.py\u001b[0m in \u001b[0;36mVar\u001b[0;34m(self, name, dist, data, total_size)\u001b[0m\n\u001b[1;32m    927\u001b[0m                                         \u001b[0mtransform\u001b[0m\u001b[0;34m=\u001b[0m\u001b[0mdist\u001b[0m\u001b[0;34m.\u001b[0m\u001b[0mtransform\u001b[0m\u001b[0;34m,\u001b[0m\u001b[0;34m\u001b[0m\u001b[0;34m\u001b[0m\u001b[0m\n\u001b[1;32m    928\u001b[0m                                         \u001b[0mtotal_size\u001b[0m\u001b[0;34m=\u001b[0m\u001b[0mtotal_size\u001b[0m\u001b[0;34m,\u001b[0m\u001b[0;34m\u001b[0m\u001b[0;34m\u001b[0m\u001b[0m\n\u001b[0;32m--> 929\u001b[0;31m                                         model=self)\n\u001b[0m\u001b[1;32m    930\u001b[0m                 pm._log.debug('Applied {transform}-transform to {name}'\n\u001b[1;32m    931\u001b[0m                               ' and added transformed {orig_name} to model.'.format(\n",
      "\u001b[0;32m/opt/conda/lib/python3.7/site-packages/pymc3/model.py\u001b[0m in \u001b[0;36m__init__\u001b[0;34m(self, type, owner, index, name, distribution, model, transform, total_size)\u001b[0m\n\u001b[1;32m   1654\u001b[0m \u001b[0;34m\u001b[0m\u001b[0m\n\u001b[1;32m   1655\u001b[0m             self.transformed = model.Var(\n\u001b[0;32m-> 1656\u001b[0;31m                 transformed_name, transform.apply(distribution), total_size=total_size)\n\u001b[0m\u001b[1;32m   1657\u001b[0m \u001b[0;34m\u001b[0m\u001b[0m\n\u001b[1;32m   1658\u001b[0m             \u001b[0mnormalRV\u001b[0m \u001b[0;34m=\u001b[0m \u001b[0mtransform\u001b[0m\u001b[0;34m.\u001b[0m\u001b[0mbackward\u001b[0m\u001b[0;34m(\u001b[0m\u001b[0mself\u001b[0m\u001b[0;34m.\u001b[0m\u001b[0mtransformed\u001b[0m\u001b[0;34m)\u001b[0m\u001b[0;34m\u001b[0m\u001b[0;34m\u001b[0m\u001b[0m\n",
      "\u001b[0;32m/opt/conda/lib/python3.7/site-packages/pymc3/model.py\u001b[0m in \u001b[0;36mVar\u001b[0;34m(self, name, dist, data, total_size)\u001b[0m\n\u001b[1;32m    957\u001b[0m                 \u001b[0mself\u001b[0m\u001b[0;34m.\u001b[0m\u001b[0mnamed_vars\u001b[0m\u001b[0;34m[\u001b[0m\u001b[0mvar\u001b[0m\u001b[0;34m.\u001b[0m\u001b[0mmissing_values\u001b[0m\u001b[0;34m.\u001b[0m\u001b[0mname\u001b[0m\u001b[0;34m]\u001b[0m \u001b[0;34m=\u001b[0m \u001b[0mvar\u001b[0m\u001b[0;34m.\u001b[0m\u001b[0mmissing_values\u001b[0m\u001b[0;34m\u001b[0m\u001b[0;34m\u001b[0m\u001b[0m\n\u001b[1;32m    958\u001b[0m \u001b[0;34m\u001b[0m\u001b[0m\n\u001b[0;32m--> 959\u001b[0;31m         \u001b[0mself\u001b[0m\u001b[0;34m.\u001b[0m\u001b[0madd_random_variable\u001b[0m\u001b[0;34m(\u001b[0m\u001b[0mvar\u001b[0m\u001b[0;34m)\u001b[0m\u001b[0;34m\u001b[0m\u001b[0;34m\u001b[0m\u001b[0m\n\u001b[0m\u001b[1;32m    960\u001b[0m         \u001b[0;32mreturn\u001b[0m \u001b[0mvar\u001b[0m\u001b[0;34m\u001b[0m\u001b[0;34m\u001b[0m\u001b[0m\n\u001b[1;32m    961\u001b[0m \u001b[0;34m\u001b[0m\u001b[0m\n",
      "\u001b[0;32m/opt/conda/lib/python3.7/site-packages/pymc3/model.py\u001b[0m in \u001b[0;36madd_random_variable\u001b[0;34m(self, var)\u001b[0m\n\u001b[1;32m    964\u001b[0m         \u001b[0;32mif\u001b[0m \u001b[0mself\u001b[0m\u001b[0;34m.\u001b[0m\u001b[0mnamed_vars\u001b[0m\u001b[0;34m.\u001b[0m\u001b[0mtree_contains\u001b[0m\u001b[0;34m(\u001b[0m\u001b[0mvar\u001b[0m\u001b[0;34m.\u001b[0m\u001b[0mname\u001b[0m\u001b[0;34m)\u001b[0m\u001b[0;34m:\u001b[0m\u001b[0;34m\u001b[0m\u001b[0;34m\u001b[0m\u001b[0m\n\u001b[1;32m    965\u001b[0m             raise ValueError(\n\u001b[0;32m--> 966\u001b[0;31m                 \"Variable name {} already exists.\".format(var.name))\n\u001b[0m\u001b[1;32m    967\u001b[0m         \u001b[0mself\u001b[0m\u001b[0;34m.\u001b[0m\u001b[0mnamed_vars\u001b[0m\u001b[0;34m[\u001b[0m\u001b[0mvar\u001b[0m\u001b[0;34m.\u001b[0m\u001b[0mname\u001b[0m\u001b[0;34m]\u001b[0m \u001b[0;34m=\u001b[0m \u001b[0mvar\u001b[0m\u001b[0;34m\u001b[0m\u001b[0;34m\u001b[0m\u001b[0m\n\u001b[1;32m    968\u001b[0m         \u001b[0;32mif\u001b[0m \u001b[0;32mnot\u001b[0m \u001b[0mhasattr\u001b[0m\u001b[0;34m(\u001b[0m\u001b[0mself\u001b[0m\u001b[0;34m,\u001b[0m \u001b[0mself\u001b[0m\u001b[0;34m.\u001b[0m\u001b[0mname_of\u001b[0m\u001b[0;34m(\u001b[0m\u001b[0mvar\u001b[0m\u001b[0;34m.\u001b[0m\u001b[0mname\u001b[0m\u001b[0;34m)\u001b[0m\u001b[0;34m)\u001b[0m\u001b[0;34m:\u001b[0m\u001b[0;34m\u001b[0m\u001b[0;34m\u001b[0m\u001b[0m\n",
      "\u001b[0;31mValueError\u001b[0m: Variable name group1_std_interval__ already exists."
     ]
    }
   ],
   "source": [
    "sigma_low = 1\n",
    "sigma_high = 10\n",
    "\n",
    "with model:\n",
    "    group1_std = pm.Uniform('group1_std', lower=sigma_low, upper=sigma_high)\n",
    "    group2_std = pm.Uniform('group2_std', lower=sigma_low, upper=sigma_high)"
   ]
  },
  {
   "cell_type": "code",
   "execution_count": 17,
   "metadata": {},
   "outputs": [],
   "source": [
    "with model:\n",
    "    v = pm.Exponential('v_minus_one', 1/29) + 1"
   ]
  },
  {
   "cell_type": "code",
   "execution_count": 18,
   "metadata": {
    "scrolled": true
   },
   "outputs": [
    {
     "data": {
      "text/plain": [
       "<matplotlib.axes._subplots.AxesSubplot at 0x7f5794b7b5c0>"
      ]
     },
     "execution_count": 18,
     "metadata": {},
     "output_type": "execute_result"
    },
    {
     "data": {
      "image/png": "[encoded data removed]",
      "text/plain": [
       "<Figure size 432x288 with 1 Axes>"
      ]
     },
     "metadata": {
      "needs_background": "light"
     },
     "output_type": "display_data"
    }
   ],
   "source": [
    "pm.kdeplot(np.random.exponential(30, size=10000), fill_kwargs={'alpha': 0.5})"
   ]
  },
  {
   "cell_type": "code",
   "execution_count": 19,
   "metadata": {},
   "outputs": [],
   "source": [
    "with model:\n",
    "    lam1 = group1_std**-2\n",
    "    lam2 = group2_std**-2\n",
    "\n",
    "    group1 = pm.StudentT('drug', nu=v, mu=group1_mean, lam=lam1, observed=y1)\n",
    "    group2 = pm.StudentT('placebo', nu=v, mu=group2_mean, lam=lam2, observed=y2)"
   ]
  }
 ],
 "metadata": {
  "kernelspec": {
   "display_name": "Python 3",
   "language": "python",
   "name": "python3"
  },
  "language_info": {
   "codemirror_mode": {
    "name": "ipython",
    "version": 3
   },
   "file_extension": ".py",
   "mimetype": "text/x-python",
   "name": "python",
   "nbconvert_exporter": "python",
   "pygments_lexer": "ipython3",
   "version": "3.7.3"
  }
 },
 "nbformat": 4,
 "nbformat_minor": 2
}
