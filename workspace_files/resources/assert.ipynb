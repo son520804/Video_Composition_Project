{
 "cells": [
  {
   "cell_type": "markdown",
   "metadata": {},
   "source": [
    "## Proportion\n",
    "Variance of proportion -> \n",
    "Binomial distribution: $n * p * (1-p)$\n",
    "\n",
    "Sample variance -> $\\frac{p (1-p)}{n}$\n",
    "\n",
    "s = $\\sqrt{\\frac{p (1-p)}{n}}$"
   ]
  },
  {
   "cell_type": "code",
   "execution_count": 1,
   "metadata": {},
   "outputs": [
    {
     "data": {
      "text/plain": [
       "-2.666666666666669"
      ]
     },
     "execution_count": 1,
     "metadata": {},
     "output_type": "execute_result"
    }
   ],
   "source": [
    "import math\n",
    "import scipy.stats as st\n",
    "p = 0.82\n",
    "p0 = 0.9\n",
    "n = 100\n",
    "\n",
    "z = (p-p0) / math.sqrt(p0 * (1-p0) / n)\n",
    "z"
   ]
  },
  {
   "cell_type": "code",
   "execution_count": 56,
   "metadata": {},
   "outputs": [
    {
     "data": {
      "text/plain": [
       "2.8284271247461903"
      ]
     },
     "execution_count": 56,
     "metadata": {},
     "output_type": "execute_result"
    }
   ],
   "source": [
    "# Calculate z-score\n",
    "p = 15/18\n",
    "p0 = 0.5\n",
    "n = 18\n",
    "z = (p-p0) / math.sqrt(p0 * (1-p0) / n)\n",
    "z"
   ]
  },
  {
   "cell_type": "code",
   "execution_count": 9,
   "metadata": {
    "scrolled": true
   },
   "outputs": [
    {
     "data": {
      "text/plain": [
       "0.11785113019775792"
      ]
     },
     "execution_count": 9,
     "metadata": {},
     "output_type": "execute_result"
    }
   ],
   "source": [
    "# Standard error\n",
    "math.sqrt(p0 * (1-p0) / n)"
   ]
  },
  {
   "cell_type": "code",
   "execution_count": 58,
   "metadata": {},
   "outputs": [
    {
     "data": {
      "text/plain": [
       "0.0023388674905235884"
      ]
     },
     "execution_count": 58,
     "metadata": {},
     "output_type": "execute_result"
    }
   ],
   "source": [
    "# p-value\n",
    "1 - st.norm.cdf(z)"
   ]
  },
  {
   "cell_type": "markdown",
   "metadata": {},
   "source": [
    "Since the p-value is less that the significance level $\\alpha = 0.05$, we have sufficient evidence to reject the null hypothesis.\n",
    "\n",
    "We conclude that in 95% confidence, we can see students demonstrate significant improvement on the test."
   ]
  },
  {
   "cell_type": "markdown",
   "metadata": {},
   "source": [
    "## Mean\n",
    "The test statistics for one-sample t-test is described as follows:\n",
    "$H_0: \\mu_0 = 0$ vs $H_A: \\mu_0 >0$\n",
    "\n",
    "t-score, degree of freedom = n - 1\n",
    "\n",
    "$t_{n-1} = \\frac{\\bar{X} - \\mu_0}{s/\\sqrt{n}}$\n",
    "\n",
    "$\\bar{X} = \\frac{\\sum_{i=1}^n {X_i}}{n}$\n",
    "\n",
    "$s = \\sqrt{\\frac{1}{n-1} \\sum_{i=1}^n (X_i - \\bar{X})^2}$"
   ]
  },
  {
   "cell_type": "code",
   "execution_count": 59,
   "metadata": {},
   "outputs": [
    {
     "data": {
      "text/plain": [
       "56.833333333333336"
      ]
     },
     "execution_count": 59,
     "metadata": {},
     "output_type": "execute_result"
    }
   ],
   "source": [
    "import numpy as np\n",
    "Improve = [31, 111,91,122,31,52,142,23,17,112,87,45,-10,42,-1,-2,68,62]\n",
    "# Mean value\n",
    "x_bar = np.mean(Improve)\n",
    "x_bar"
   ]
  },
  {
   "cell_type": "code",
   "execution_count": 47,
   "metadata": {},
   "outputs": [
    {
     "data": {
      "image/png": "[encoded data removed]",
      "text/plain": [
       "<Figure size 432x288 with 1 Axes>"
      ]
     },
     "metadata": {
      "needs_background": "light"
     },
     "output_type": "display_data"
    }
   ],
   "source": [
    "import matplotlib.pyplot as plt\n",
    "import statsmodels.api as sm \n",
    "import pylab as py\n",
    "plt.hist(Improve)\n",
    "plt.show()"
   ]
  },
  {
   "cell_type": "code",
   "execution_count": 38,
   "metadata": {},
   "outputs": [],
   "source": [
    "Improve = np.array([31, 111,91,122,31,52,142,23,17,112,87,45,-10,42,-1,-2,68,62])"
   ]
  },
  {
   "cell_type": "code",
   "execution_count": 44,
   "metadata": {},
   "outputs": [],
   "source": [
    "import scipy"
   ]
  },
  {
   "cell_type": "code",
   "execution_count": 53,
   "metadata": {},
   "outputs": [
    {
     "data": {
      "text/plain": [
       "((array([-1.77709673, -1.33087857, -1.05345661, -0.83977496, -0.6589352 ,\n",
       "         -0.49749478, -0.34812942, -0.20618578, -0.06829777,  0.06829777,\n",
       "          0.20618578,  0.34812942,  0.49749478,  0.6589352 ,  0.83977496,\n",
       "          1.05345661,  1.33087857,  1.77709673]),\n",
       "  array([-10,  -2,  -1,  17,  23,  31,  31,  42,  45,  52,  62,  68,  87,\n",
       "          91, 111, 112, 122, 142])),\n",
       " (47.61927961305899, 56.83333333333333, 0.9859782819842741))"
      ]
     },
     "execution_count": 53,
     "metadata": {},
     "output_type": "execute_result"
    },
    {
     "data": {
      "image/png": "[encoded data removed]",
      "text/plain": [
       "<Figure size 432x288 with 1 Axes>"
      ]
     },
     "metadata": {
      "needs_background": "light"
     },
     "output_type": "display_data"
    }
   ],
   "source": [
    "# Draw QQ plot\n",
    "scipy.stats.probplot(Improve, dist=\"norm\", plot=plt)"
   ]
  },
  {
   "cell_type": "markdown",
   "metadata": {},
   "source": [
    "Looking at the Q-Q plot, we see that all the points are not significantly deviated from the QQ-line, indicating that the sample is approximately normal. Therefore, the normality assumption is satisfied and the use of t-test is justified."
   ]
  },
  {
   "cell_type": "code",
   "execution_count": 48,
   "metadata": {},
   "outputs": [
    {
     "data": {
      "text/plain": [
       "45.65117097911844"
      ]
     },
     "execution_count": 48,
     "metadata": {},
     "output_type": "execute_result"
    }
   ],
   "source": [
    "# Standard error\n",
    "square_list = list(Improve - x_bar)\n",
    "s = math.sqrt(1/17 * sum([number **2 for number in square_list]))\n",
    "s"
   ]
  },
  {
   "cell_type": "code",
   "execution_count": 30,
   "metadata": {},
   "outputs": [
    {
     "data": {
      "text/plain": [
       "5.28186697543654"
      ]
     },
     "execution_count": 30,
     "metadata": {},
     "output_type": "execute_result"
    }
   ],
   "source": [
    "# Calculate t-statistics\n",
    "t = (x_bar - 0) / (s/math.sqrt(18))\n",
    "t"
   ]
  },
  {
   "cell_type": "code",
   "execution_count": 61,
   "metadata": {},
   "outputs": [
    {
     "data": {
      "text/plain": [
       "3.0511108556896538e-05"
      ]
     },
     "execution_count": 61,
     "metadata": {},
     "output_type": "execute_result"
    }
   ],
   "source": [
    "# p-value, df = 17\n",
    "1 - st.t.cdf(t, 17)"
   ]
  },
  {
   "cell_type": "markdown",
   "metadata": {},
   "source": [
    "Since the p-value is less that the significance level $\\alpha=0.05$, we have sufficient evidence to reject the null hypothesis.\n",
    "\n",
    "We can similarly have confidence to conclude that students demonstrate significant improvement on the test."
   ]
  },
  {
   "cell_type": "markdown",
   "metadata": {},
   "source": [
    "Margin of Error:\n",
    "\n",
    "When you use z-score, and is given the the margin, the confidence level and standard deviation, you can easily find out the minimal possible sample size that achieve that margin of error.\n",
    "\n",
    "Due to the symmetric property of standard normal distribution $N(0,1)$, which is represented by z-score, we have a nice property that \n",
    "\n",
    "$P(Z>X) = P(Z<-X)$\n",
    "\n",
    "$\\frac{\\sigma * z_{\\frac{\\alpha}{2}}}{\\sqrt{n}} = margin < 10$\n",
    "\n",
    "$-> \\sqrt{n} > \\frac{\\sigma * z_{\\frac{\\alpha}{2}}}{10} $"
   ]
  },
  {
   "cell_type": "code",
   "execution_count": 6,
   "metadata": {},
   "outputs": [
    {
     "data": {
      "text/plain": [
       "-1.959963984540054"
      ]
     },
     "execution_count": 6,
     "metadata": {},
     "output_type": "execute_result"
    }
   ],
   "source": [
    "sigma = 100\n",
    "alpha = 1 - 0.95\n",
    "\n",
    "# Calculate the Z-value from negative infinity to a certain number \n",
    "# that captures the probability alpha/2\n",
    "st.norm.ppf(alpha/2)"
   ]
  },
  {
   "cell_type": "code",
   "execution_count": 7,
   "metadata": {},
   "outputs": [
    {
     "data": {
      "text/plain": [
       "1.959963984540054"
      ]
     },
     "execution_count": 7,
     "metadata": {},
     "output_type": "execute_result"
    }
   ],
   "source": [
    "# Due to the symmetric property, you should be able to obtain that 1.96 to infinity \n",
    "# also capture the probability alpha/2.\n",
    "# Therefore, from negative infinity to 1.96, it captures 1 - alpha/2 probability\n",
    "st.norm.ppf(1 - alpha/2)"
   ]
  },
  {
   "cell_type": "code",
   "execution_count": 8,
   "metadata": {
    "scrolled": true
   },
   "outputs": [
    {
     "data": {
      "text/plain": [
       "384.14588206941244"
      ]
     },
     "execution_count": 8,
     "metadata": {},
     "output_type": "execute_result"
    }
   ],
   "source": [
    "# Take the square of (sigma * z / 10)\n",
    "(st.norm.ppf(0.975) * sigma / 10)**2"
   ]
  },
  {
   "cell_type": "markdown",
   "metadata": {},
   "source": [
    "The minimum sample size achieving the margin of error less than or equals to 10 is 385.\n",
    "\n",
    "This is the smaller possible sample size that can obtain a sufficiently small margin of error required."
   ]
  },
  {
   "cell_type": "markdown",
   "metadata": {},
   "source": [
    "## Sleep deprivation\n",
    "\n",
    "Sleep deprivation occurs when an individual fails to get enough sleep (7 hours per day). Although the amount of sleep that a person needs varies from one to another, on average most adults need about 7 hours of sleep each night to feel alert and well rested.\n",
    "\n",
    "Sleep deprivation can lead to stress, medical conditions, obesity, heart disease, high blood pressure, disbetes, etc."
   ]
  },
  {
   "cell_type": "markdown",
   "metadata": {},
   "source": [
    "## Confidence Interval\n",
    "\n",
    "For example, 90% confidence, $0.90 = 1 - \\alpha$. Therefore, $\\alpha = 0.1$\n",
    "\n",
    "Since you already obtain the proportion p, the standard error is given by\n",
    "\n",
    "$$\\hat{\\sigma} = \\frac{p (1-p)}{\\sqrt{n}} $$\n",
    "\n",
    "Calculate:\n",
    "\n",
    "$$(lower, upper) = p \\pm z_{\\frac{\\alpha}{2}} * \\hat{\\sigma}$$\n",
    "\n",
    "R: confint(, 09)"
   ]
  },
  {
   "cell_type": "code",
   "execution_count": 13,
   "metadata": {},
   "outputs": [],
   "source": [
    "# p = mean(SmokeLife)\n",
    "p = 0.425\n",
    "n = 497\n",
    "hat_sigma = p * (1-p)/math.sqrt(n)"
   ]
  },
  {
   "cell_type": "code",
   "execution_count": 15,
   "metadata": {},
   "outputs": [
    {
     "data": {
      "text/plain": [
       "-1.6448536269514729"
      ]
     },
     "execution_count": 15,
     "metadata": {},
     "output_type": "execute_result"
    }
   ],
   "source": [
    "st.norm.ppf(0.05)"
   ]
  },
  {
   "cell_type": "code",
   "execution_count": 14,
   "metadata": {},
   "outputs": [
    {
     "data": {
      "text/plain": [
       "(0.40696958025386887, 0.4430304197461311)"
      ]
     },
     "execution_count": 14,
     "metadata": {},
     "output_type": "execute_result"
    }
   ],
   "source": [
    "(lower, upper) = (p + st.norm.ppf(0.05) * hat_sigma, p + st.norm.ppf(0.95) * hat_sigma)\n",
    "(lower, upper)"
   ]
  },
  {
   "cell_type": "code",
   "execution_count": 1,
   "metadata": {},
   "outputs": [
    {
     "data": {
      "text/html": [
       "<div>\n",
       "<style scoped>\n",
       "    .dataframe tbody tr th:only-of-type {\n",
       "        vertical-align: middle;\n",
       "    }\n",
       "\n",
       "    .dataframe tbody tr th {\n",
       "        vertical-align: top;\n",
       "    }\n",
       "\n",
       "    .dataframe thead th {\n",
       "        text-align: right;\n",
       "    }\n",
       "</style>\n",
       "<table border=\"1\" class=\"dataframe\">\n",
       "  <thead>\n",
       "    <tr style=\"text-align: right;\">\n",
       "      <th></th>\n",
       "      <th>SubjectId</th>\n",
       "      <th>Name</th>\n",
       "      <th>ParentId</th>\n",
       "      <th>Level</th>\n",
       "    </tr>\n",
       "  </thead>\n",
       "  <tbody>\n",
       "    <tr>\n",
       "      <th>0</th>\n",
       "      <td>3</td>\n",
       "      <td>Maths</td>\n",
       "      <td>NaN</td>\n",
       "      <td>0</td>\n",
       "    </tr>\n",
       "    <tr>\n",
       "      <th>1</th>\n",
       "      <td>32</td>\n",
       "      <td>Number</td>\n",
       "      <td>3.0</td>\n",
       "      <td>1</td>\n",
       "    </tr>\n",
       "    <tr>\n",
       "      <th>2</th>\n",
       "      <td>33</td>\n",
       "      <td>BIDMAS</td>\n",
       "      <td>144.0</td>\n",
       "      <td>3</td>\n",
       "    </tr>\n",
       "    <tr>\n",
       "      <th>3</th>\n",
       "      <td>34</td>\n",
       "      <td>Upper and Lower Bounds</td>\n",
       "      <td>141.0</td>\n",
       "      <td>3</td>\n",
       "    </tr>\n",
       "    <tr>\n",
       "      <th>4</th>\n",
       "      <td>35</td>\n",
       "      <td>Calculator Use</td>\n",
       "      <td>32.0</td>\n",
       "      <td>2</td>\n",
       "    </tr>\n",
       "  </tbody>\n",
       "</table>\n",
       "</div>"
      ],
      "text/plain": [
       "   SubjectId                    Name  ParentId  Level\n",
       "0          3                   Maths       NaN      0\n",
       "1         32                  Number       3.0      1\n",
       "2         33                  BIDMAS     144.0      3\n",
       "3         34  Upper and Lower Bounds     141.0      3\n",
       "4         35          Calculator Use      32.0      2"
      ]
     },
     "execution_count": 1,
     "metadata": {},
     "output_type": "execute_result"
    }
   ],
   "source": [
    "import pandas as pd\n",
    "\n",
    "data = pd.read_csv('subject_metadata.csv')\n",
    "data.head()"
   ]
  },
  {
   "cell_type": "code",
   "execution_count": 39,
   "metadata": {},
   "outputs": [
    {
     "data": {
      "text/html": [
       "<div>\n",
       "<style scoped>\n",
       "    .dataframe tbody tr th:only-of-type {\n",
       "        vertical-align: middle;\n",
       "    }\n",
       "\n",
       "    .dataframe tbody tr th {\n",
       "        vertical-align: top;\n",
       "    }\n",
       "\n",
       "    .dataframe thead th {\n",
       "        text-align: right;\n",
       "    }\n",
       "</style>\n",
       "<table border=\"1\" class=\"dataframe\">\n",
       "  <thead>\n",
       "    <tr style=\"text-align: right;\">\n",
       "      <th></th>\n",
       "      <th>SubjectId</th>\n",
       "      <th>Name</th>\n",
       "      <th>ParentId</th>\n",
       "      <th>Level</th>\n",
       "    </tr>\n",
       "  </thead>\n",
       "  <tbody>\n",
       "    <tr>\n",
       "      <th>1</th>\n",
       "      <td>32</td>\n",
       "      <td>Number</td>\n",
       "      <td>3.0</td>\n",
       "      <td>1</td>\n",
       "    </tr>\n",
       "    <tr>\n",
       "      <th>17</th>\n",
       "      <td>49</td>\n",
       "      <td>Algebra</td>\n",
       "      <td>3.0</td>\n",
       "      <td>1</td>\n",
       "    </tr>\n",
       "    <tr>\n",
       "      <th>39</th>\n",
       "      <td>71</td>\n",
       "      <td>Geometry and Measure</td>\n",
       "      <td>3.0</td>\n",
       "      <td>1</td>\n",
       "    </tr>\n",
       "    <tr>\n",
       "      <th>68</th>\n",
       "      <td>101</td>\n",
       "      <td>Data and Statistics</td>\n",
       "      <td>3.0</td>\n",
       "      <td>1</td>\n",
       "    </tr>\n",
       "    <tr>\n",
       "      <th>86</th>\n",
       "      <td>119</td>\n",
       "      <td>Advanced Pure</td>\n",
       "      <td>3.0</td>\n",
       "      <td>1</td>\n",
       "    </tr>\n",
       "    <tr>\n",
       "      <th>100</th>\n",
       "      <td>149</td>\n",
       "      <td>Advanced Mechanics</td>\n",
       "      <td>3.0</td>\n",
       "      <td>1</td>\n",
       "    </tr>\n",
       "    <tr>\n",
       "      <th>101</th>\n",
       "      <td>151</td>\n",
       "      <td>Advanced Statistics</td>\n",
       "      <td>3.0</td>\n",
       "      <td>1</td>\n",
       "    </tr>\n",
       "    <tr>\n",
       "      <th>302</th>\n",
       "      <td>692</td>\n",
       "      <td>Physics</td>\n",
       "      <td>1642.0</td>\n",
       "      <td>1</td>\n",
       "    </tr>\n",
       "    <tr>\n",
       "      <th>313</th>\n",
       "      <td>1156</td>\n",
       "      <td>Maths-Others</td>\n",
       "      <td>3.0</td>\n",
       "      <td>1</td>\n",
       "    </tr>\n",
       "  </tbody>\n",
       "</table>\n",
       "</div>"
      ],
      "text/plain": [
       "     SubjectId                  Name  ParentId  Level\n",
       "1           32                Number       3.0      1\n",
       "17          49               Algebra       3.0      1\n",
       "39          71  Geometry and Measure       3.0      1\n",
       "68         101   Data and Statistics       3.0      1\n",
       "86         119         Advanced Pure       3.0      1\n",
       "100        149    Advanced Mechanics       3.0      1\n",
       "101        151   Advanced Statistics       3.0      1\n",
       "302        692               Physics    1642.0      1\n",
       "313       1156          Maths-Others       3.0      1"
      ]
     },
     "execution_count": 39,
     "metadata": {},
     "output_type": "execute_result"
    }
   ],
   "source": [
    "## Let's find out the subjects which belong to Level 1, which means\n",
    "# those subjects are directly under math as grand categories\n",
    "\n",
    "data[data.Level == 1]\n",
    "# len(data[data.Level == 1]) # There are 9 subjects in total"
   ]
  },
  {
   "cell_type": "code",
   "execution_count": 8,
   "metadata": {},
   "outputs": [
    {
     "data": {
      "text/html": [
       "<div>\n",
       "<style scoped>\n",
       "    .dataframe tbody tr th:only-of-type {\n",
       "        vertical-align: middle;\n",
       "    }\n",
       "\n",
       "    .dataframe tbody tr th {\n",
       "        vertical-align: top;\n",
       "    }\n",
       "\n",
       "    .dataframe thead th {\n",
       "        text-align: right;\n",
       "    }\n",
       "</style>\n",
       "<table border=\"1\" class=\"dataframe\">\n",
       "  <thead>\n",
       "    <tr style=\"text-align: right;\">\n",
       "      <th></th>\n",
       "      <th>SubjectId</th>\n",
       "      <th>Name</th>\n",
       "      <th>ParentId</th>\n",
       "      <th>Level</th>\n",
       "    </tr>\n",
       "  </thead>\n",
       "  <tbody>\n",
       "    <tr>\n",
       "      <th>0</th>\n",
       "      <td>3</td>\n",
       "      <td>Maths</td>\n",
       "      <td>NaN</td>\n",
       "      <td>0</td>\n",
       "    </tr>\n",
       "    <tr>\n",
       "      <th>370</th>\n",
       "      <td>1642</td>\n",
       "      <td>Science</td>\n",
       "      <td>NaN</td>\n",
       "      <td>0</td>\n",
       "    </tr>\n",
       "  </tbody>\n",
       "</table>\n",
       "</div>"
      ],
      "text/plain": [
       "     SubjectId     Name  ParentId  Level\n",
       "0            3    Maths       NaN      0\n",
       "370       1642  Science       NaN      0"
      ]
     },
     "execution_count": 8,
     "metadata": {},
     "output_type": "execute_result"
    }
   ],
   "source": [
    "# Find out all parent level data\n",
    "data[data.Level == 0]"
   ]
  },
  {
   "cell_type": "code",
   "execution_count": 11,
   "metadata": {},
   "outputs": [
    {
     "data": {
      "text/html": [
       "<div>\n",
       "<style scoped>\n",
       "    .dataframe tbody tr th:only-of-type {\n",
       "        vertical-align: middle;\n",
       "    }\n",
       "\n",
       "    .dataframe tbody tr th {\n",
       "        vertical-align: top;\n",
       "    }\n",
       "\n",
       "    .dataframe thead th {\n",
       "        text-align: right;\n",
       "    }\n",
       "</style>\n",
       "<table border=\"1\" class=\"dataframe\">\n",
       "  <thead>\n",
       "    <tr style=\"text-align: right;\">\n",
       "      <th></th>\n",
       "      <th>SubjectId</th>\n",
       "      <th>Name</th>\n",
       "      <th>ParentId</th>\n",
       "      <th>Level</th>\n",
       "    </tr>\n",
       "  </thead>\n",
       "  <tbody>\n",
       "    <tr>\n",
       "      <th>302</th>\n",
       "      <td>692</td>\n",
       "      <td>Physics</td>\n",
       "      <td>1642.0</td>\n",
       "      <td>1</td>\n",
       "    </tr>\n",
       "  </tbody>\n",
       "</table>\n",
       "</div>"
      ],
      "text/plain": [
       "     SubjectId     Name  ParentId  Level\n",
       "302        692  Physics    1642.0      1"
      ]
     },
     "execution_count": 11,
     "metadata": {},
     "output_type": "execute_result"
    }
   ],
   "source": [
    "# Find out the tree for science track: We first find the sibling under science\n",
    "data[data.ParentId == 1642]\n",
    "# Physics with SubjectId 692"
   ]
  },
  {
   "cell_type": "code",
   "execution_count": 10,
   "metadata": {},
   "outputs": [
    {
     "data": {
      "text/html": [
       "<div>\n",
       "<style scoped>\n",
       "    .dataframe tbody tr th:only-of-type {\n",
       "        vertical-align: middle;\n",
       "    }\n",
       "\n",
       "    .dataframe tbody tr th {\n",
       "        vertical-align: top;\n",
       "    }\n",
       "\n",
       "    .dataframe thead th {\n",
       "        text-align: right;\n",
       "    }\n",
       "</style>\n",
       "<table border=\"1\" class=\"dataframe\">\n",
       "  <thead>\n",
       "    <tr style=\"text-align: right;\">\n",
       "      <th></th>\n",
       "      <th>SubjectId</th>\n",
       "      <th>Name</th>\n",
       "      <th>ParentId</th>\n",
       "      <th>Level</th>\n",
       "    </tr>\n",
       "  </thead>\n",
       "  <tbody>\n",
       "    <tr>\n",
       "      <th>303</th>\n",
       "      <td>698</td>\n",
       "      <td>Forces and Motion</td>\n",
       "      <td>692.0</td>\n",
       "      <td>2</td>\n",
       "    </tr>\n",
       "  </tbody>\n",
       "</table>\n",
       "</div>"
      ],
      "text/plain": [
       "     SubjectId               Name  ParentId  Level\n",
       "303        698  Forces and Motion     692.0      2"
      ]
     },
     "execution_count": 10,
     "metadata": {},
     "output_type": "execute_result"
    }
   ],
   "source": [
    "# We then find the sibling under Physics\n",
    "data[data.ParentId == 692] \n",
    "# Forces and Motion is under Physics track"
   ]
  },
  {
   "cell_type": "code",
   "execution_count": 12,
   "metadata": {},
   "outputs": [
    {
     "data": {
      "text/html": [
       "<div>\n",
       "<style scoped>\n",
       "    .dataframe tbody tr th:only-of-type {\n",
       "        vertical-align: middle;\n",
       "    }\n",
       "\n",
       "    .dataframe tbody tr th {\n",
       "        vertical-align: top;\n",
       "    }\n",
       "\n",
       "    .dataframe thead th {\n",
       "        text-align: right;\n",
       "    }\n",
       "</style>\n",
       "<table border=\"1\" class=\"dataframe\">\n",
       "  <thead>\n",
       "    <tr style=\"text-align: right;\">\n",
       "      <th></th>\n",
       "      <th>SubjectId</th>\n",
       "      <th>Name</th>\n",
       "      <th>ParentId</th>\n",
       "      <th>Level</th>\n",
       "    </tr>\n",
       "  </thead>\n",
       "  <tbody>\n",
       "    <tr>\n",
       "      <th>304</th>\n",
       "      <td>700</td>\n",
       "      <td>Speed and Distance-Time graphs</td>\n",
       "      <td>698.0</td>\n",
       "      <td>3</td>\n",
       "    </tr>\n",
       "  </tbody>\n",
       "</table>\n",
       "</div>"
      ],
      "text/plain": [
       "     SubjectId                            Name  ParentId  Level\n",
       "304        700  Speed and Distance-Time graphs     698.0      3"
      ]
     },
     "execution_count": 12,
     "metadata": {},
     "output_type": "execute_result"
    }
   ],
   "source": [
    "# We also want to know the Siblings for Forces and Motion\n",
    "data[data.ParentId == 698] "
   ]
  },
  {
   "cell_type": "code",
   "execution_count": 13,
   "metadata": {},
   "outputs": [
    {
     "data": {
      "text/html": [
       "<div>\n",
       "<style scoped>\n",
       "    .dataframe tbody tr th:only-of-type {\n",
       "        vertical-align: middle;\n",
       "    }\n",
       "\n",
       "    .dataframe tbody tr th {\n",
       "        vertical-align: top;\n",
       "    }\n",
       "\n",
       "    .dataframe thead th {\n",
       "        text-align: right;\n",
       "    }\n",
       "</style>\n",
       "<table border=\"1\" class=\"dataframe\">\n",
       "  <thead>\n",
       "    <tr style=\"text-align: right;\">\n",
       "      <th></th>\n",
       "      <th>SubjectId</th>\n",
       "      <th>Name</th>\n",
       "      <th>ParentId</th>\n",
       "      <th>Level</th>\n",
       "    </tr>\n",
       "  </thead>\n",
       "  <tbody>\n",
       "  </tbody>\n",
       "</table>\n",
       "</div>"
      ],
      "text/plain": [
       "Empty DataFrame\n",
       "Columns: [SubjectId, Name, ParentId, Level]\n",
       "Index: []"
      ]
     },
     "execution_count": 13,
     "metadata": {},
     "output_type": "execute_result"
    }
   ],
   "source": [
    "data[data.ParentId == 700] "
   ]
  },
  {
   "cell_type": "code",
   "execution_count": 14,
   "metadata": {},
   "outputs": [
    {
     "data": {
      "text/html": [
       "<div>\n",
       "<style scoped>\n",
       "    .dataframe tbody tr th:only-of-type {\n",
       "        vertical-align: middle;\n",
       "    }\n",
       "\n",
       "    .dataframe tbody tr th {\n",
       "        vertical-align: top;\n",
       "    }\n",
       "\n",
       "    .dataframe thead th {\n",
       "        text-align: right;\n",
       "    }\n",
       "</style>\n",
       "<table border=\"1\" class=\"dataframe\">\n",
       "  <thead>\n",
       "    <tr style=\"text-align: right;\">\n",
       "      <th></th>\n",
       "      <th>SubjectId</th>\n",
       "      <th>Name</th>\n",
       "      <th>ParentId</th>\n",
       "      <th>Level</th>\n",
       "    </tr>\n",
       "  </thead>\n",
       "  <tbody>\n",
       "    <tr>\n",
       "      <th>229</th>\n",
       "      <td>313</td>\n",
       "      <td>Advanced Measures of Variation</td>\n",
       "      <td>151.0</td>\n",
       "      <td>2</td>\n",
       "    </tr>\n",
       "    <tr>\n",
       "      <th>230</th>\n",
       "      <td>315</td>\n",
       "      <td>Permutations and Combinations</td>\n",
       "      <td>151.0</td>\n",
       "      <td>2</td>\n",
       "    </tr>\n",
       "    <tr>\n",
       "      <th>231</th>\n",
       "      <td>317</td>\n",
       "      <td>Regression</td>\n",
       "      <td>151.0</td>\n",
       "      <td>2</td>\n",
       "    </tr>\n",
       "    <tr>\n",
       "      <th>352</th>\n",
       "      <td>1207</td>\n",
       "      <td>Advanced Statistics-Others</td>\n",
       "      <td>151.0</td>\n",
       "      <td>2</td>\n",
       "    </tr>\n",
       "  </tbody>\n",
       "</table>\n",
       "</div>"
      ],
      "text/plain": [
       "     SubjectId                            Name  ParentId  Level\n",
       "229        313  Advanced Measures of Variation     151.0      2\n",
       "230        315   Permutations and Combinations     151.0      2\n",
       "231        317                      Regression     151.0      2\n",
       "352       1207      Advanced Statistics-Others     151.0      2"
      ]
     },
     "execution_count": 14,
     "metadata": {},
     "output_type": "execute_result"
    }
   ],
   "source": [
    "# Let us then figure out what are the subcategories of Advanced Statistics\n",
    "# Level 0 - Math, Level 1 is Advanced Statistics and they are level 2\n",
    "\n",
    "data[(data.Level == 2) & (data.ParentId == 151)]"
   ]
  },
  {
   "cell_type": "code",
   "execution_count": 15,
   "metadata": {},
   "outputs": [
    {
     "data": {
      "text/html": [
       "<div>\n",
       "<style scoped>\n",
       "    .dataframe tbody tr th:only-of-type {\n",
       "        vertical-align: middle;\n",
       "    }\n",
       "\n",
       "    .dataframe tbody tr th {\n",
       "        vertical-align: top;\n",
       "    }\n",
       "\n",
       "    .dataframe thead th {\n",
       "        text-align: right;\n",
       "    }\n",
       "</style>\n",
       "<table border=\"1\" class=\"dataframe\">\n",
       "  <thead>\n",
       "    <tr style=\"text-align: right;\">\n",
       "      <th></th>\n",
       "      <th>SubjectId</th>\n",
       "      <th>Name</th>\n",
       "      <th>ParentId</th>\n",
       "      <th>Level</th>\n",
       "    </tr>\n",
       "  </thead>\n",
       "  <tbody>\n",
       "    <tr>\n",
       "      <th>292</th>\n",
       "      <td>474</td>\n",
       "      <td>Standard Deviation and Variance from Discrete ...</td>\n",
       "      <td>313.0</td>\n",
       "      <td>3</td>\n",
       "    </tr>\n",
       "  </tbody>\n",
       "</table>\n",
       "</div>"
      ],
      "text/plain": [
       "     SubjectId                                               Name  ParentId  \\\n",
       "292        474  Standard Deviation and Variance from Discrete ...     313.0   \n",
       "\n",
       "     Level  \n",
       "292      3  "
      ]
     },
     "execution_count": 15,
     "metadata": {},
     "output_type": "execute_result"
    }
   ],
   "source": [
    "# Find out the siblings for Advanced Measures of Variation\n",
    "\n",
    "data[(data.ParentId == 313)]\n",
    "\n",
    "# We found a question called standard deviation and variance from discrete distribution\n",
    "# That's a specific question under advanced measures of variation"
   ]
  },
  {
   "cell_type": "code",
   "execution_count": 18,
   "metadata": {},
   "outputs": [
    {
     "data": {
      "text/html": [
       "<div>\n",
       "<style scoped>\n",
       "    .dataframe tbody tr th:only-of-type {\n",
       "        vertical-align: middle;\n",
       "    }\n",
       "\n",
       "    .dataframe tbody tr th {\n",
       "        vertical-align: top;\n",
       "    }\n",
       "\n",
       "    .dataframe thead th {\n",
       "        text-align: right;\n",
       "    }\n",
       "</style>\n",
       "<table border=\"1\" class=\"dataframe\">\n",
       "  <thead>\n",
       "    <tr style=\"text-align: right;\">\n",
       "      <th></th>\n",
       "      <th>SubjectId</th>\n",
       "      <th>Name</th>\n",
       "      <th>ParentId</th>\n",
       "      <th>Level</th>\n",
       "    </tr>\n",
       "  </thead>\n",
       "  <tbody>\n",
       "  </tbody>\n",
       "</table>\n",
       "</div>"
      ],
      "text/plain": [
       "Empty DataFrame\n",
       "Columns: [SubjectId, Name, ParentId, Level]\n",
       "Index: []"
      ]
     },
     "execution_count": 18,
     "metadata": {},
     "output_type": "execute_result"
    }
   ],
   "source": [
    "data[(data.ParentId == 1207)]"
   ]
  },
  {
   "cell_type": "code",
   "execution_count": 12,
   "metadata": {},
   "outputs": [
    {
     "data": {
      "text/plain": [
       "3"
      ]
     },
     "execution_count": 12,
     "metadata": {},
     "output_type": "execute_result"
    }
   ],
   "source": [
    "# Find out the maximum number of generations\n",
    "\n",
    "max(data.Level)"
   ]
  },
  {
   "cell_type": "code",
   "execution_count": 21,
   "metadata": {},
   "outputs": [
    {
     "data": {
      "text/plain": [
       "<bound method DataFrame.idxmax of      SubjectId     Name  ParentId  Level\n",
       "0            3    Maths       NaN      0\n",
       "370       1642  Science       NaN      0>"
      ]
     },
     "execution_count": 21,
     "metadata": {},
     "output_type": "execute_result"
    }
   ],
   "source": [
    "# data[data.Level == 0]\n",
    "data[data.Level == 0].idxmax"
   ]
  },
  {
   "cell_type": "code",
   "execution_count": 34,
   "metadata": {
    "scrolled": true
   },
   "outputs": [
    {
     "data": {
      "text/plain": [
       "69"
      ]
     },
     "execution_count": 34,
     "metadata": {},
     "output_type": "execute_result"
    }
   ],
   "source": [
    "data[data.Level == 2]\n",
    "\n",
    "# Range of subject Id for level data points\n",
    "#print(min(data[data.Level == 2].SubjectId), max(data[data.Level == 2].SubjectId))\n",
    "\n",
    "# How many subjects are of level 2? \n",
    "# Which means how many subjects are directly under the first layer of subject category?\n",
    "\n",
    "data[data.Level == 2].SubjectId.count()"
   ]
  },
  {
   "cell_type": "markdown",
   "metadata": {},
   "source": [
    "There are 69 subjects with level 2."
   ]
  },
  {
   "cell_type": "code",
   "execution_count": 36,
   "metadata": {},
   "outputs": [
    {
     "data": {
      "text/plain": [
       "8"
      ]
     },
     "execution_count": 36,
     "metadata": {},
     "output_type": "execute_result"
    }
   ],
   "source": [
    "# How many unique parent Ids are there for the 69 subjects in level 2?\n",
    "# There are 8 unique subjects\n",
    "data[data.Level == 2].ParentId.nunique()"
   ]
  },
  {
   "cell_type": "code",
   "execution_count": 41,
   "metadata": {},
   "outputs": [
    {
     "data": {
      "text/plain": [
       "16"
      ]
     },
     "execution_count": 41,
     "metadata": {},
     "output_type": "execute_result"
    }
   ],
   "source": [
    "# Find out the number of subjects under Number (SubjectId = 32)\n",
    "\n",
    "len(data[data.ParentId == 32]) # There are 16 subjects under Number"
   ]
  },
  {
   "cell_type": "code",
   "execution_count": 44,
   "metadata": {},
   "outputs": [
    {
     "data": {
      "text/plain": [
       "0"
      ]
     },
     "execution_count": 44,
     "metadata": {},
     "output_type": "execute_result"
    }
   ],
   "source": [
    "len(data[data.ParentId == 1156])"
   ]
  },
  {
   "cell_type": "code",
   "execution_count": 49,
   "metadata": {},
   "outputs": [
    {
     "data": {
      "text/plain": [
       "[32, 49, 71, 101, 119, 149, 151, 692, 1156]"
      ]
     },
     "execution_count": 49,
     "metadata": {},
     "output_type": "execute_result"
    }
   ],
   "source": [
    "list(data[data.Level == 1].SubjectId)"
   ]
  },
  {
   "cell_type": "code",
   "execution_count": 48,
   "metadata": {},
   "outputs": [
    {
     "data": {
      "text/plain": [
       "[16, 14, 16, 5, 12, 1, 4, 1, 0]"
      ]
     },
     "execution_count": 48,
     "metadata": {},
     "output_type": "execute_result"
    }
   ],
   "source": [
    "### We can iteratively get how many number of subcategories under level 1 subjects\n",
    "\n",
    "level_one_subject = list(data[data.Level == 1].SubjectId)\n",
    "subject_under_level_one = list()\n",
    "\n",
    "for i in level_one_subject:\n",
    "    subject_under_level_one.append(len(data[data.ParentId == i]))\n",
    "    \n",
    "subject_under_level_one\n"
   ]
  },
  {
   "cell_type": "markdown",
   "metadata": {},
   "source": [
    "As the output suggests, there are [16, 14, 16, 5, 12, 1, 4, 1, 0] subtopics under level 1 subjects [32, 49, 71, 101, 119, 149, 151, 692, 1156], respectively. We can clearly see that there is not any questions asked regarding subject 1156, which is Math-others."
   ]
  }
 ],
 "metadata": {
  "kernelspec": {
   "display_name": "Python 3",
   "language": "python",
   "name": "python3"
  },
  "language_info": {
   "codemirror_mode": {
    "name": "ipython",
    "version": 3
   },
   "file_extension": ".py",
   "mimetype": "text/x-python",
   "name": "python",
   "nbconvert_exporter": "python",
   "pygments_lexer": "ipython3",
   "version": "3.7.3"
  }
 },
 "nbformat": 4,
 "nbformat_minor": 2
}
